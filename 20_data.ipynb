{
 "cells": [
  {
   "cell_type": "code",
   "execution_count": 1,
   "id": "elegant-karaoke",
   "metadata": {},
   "outputs": [],
   "source": [
    "//default_exp data"
   ]
  },
  {
   "cell_type": "markdown",
   "id": "controlling-blank",
   "metadata": {},
   "source": [
    "# Data\n",
    "\n",
    "> Data loading and processing functions."
   ]
  },
  {
   "cell_type": "code",
   "execution_count": 2,
   "id": "numeric-offense",
   "metadata": {},
   "outputs": [],
   "source": [
    "/**\n",
    "Imports we need in data.module.js\n",
    "*/\n",
    "import {argmax} from './src/util.module.js';"
   ]
  },
  {
   "cell_type": "code",
   "execution_count": 3,
   "id": "flying-complexity",
   "metadata": {},
   "outputs": [],
   "source": [
    "// Imports we need for testing\n",
    "import {shape} from './src/util.module.js';\n",
    "import {testEq} from './src/testutil.module.js'"
   ]
  },
  {
   "cell_type": "markdown",
   "id": "swiss-superintendent",
   "metadata": {},
   "source": [
    "## Load"
   ]
  },
  {
   "cell_type": "code",
   "execution_count": 4,
   "id": "worst-fleece",
   "metadata": {},
   "outputs": [],
   "source": [
    "/**\n",
    "Log the first `rows` of an array.\n",
    "*/\n",
    "function head(data,rows=10) {\n",
    "    rows=Math.min(rows,data.length);\n",
    "    for (let i=0; i<rows; i++) {\n",
    "        console.log(i, data[i]);\n",
    "    }\n",
    "}\n",
    "\n",
    "/**\n",
    "Log the last `rows` of an array.\n",
    "*/\n",
    "function tail(data,rows=10) {\n",
    "    rows=Math.min(rows,data.length);\n",
    "    for (let i=-rows; i<0; i++) {\n",
    "        console.log(i, data[data.length+i]);\n",
    "    }\n",
    "}"
   ]
  },
  {
   "cell_type": "code",
   "execution_count": 5,
   "id": "auburn-portuguese",
   "metadata": {},
   "outputs": [],
   "source": [
    "/**\n",
    "Parse simple csv formatted strings.\n",
    "*/\n",
    "class RowHandler {\n",
    "    constructor() {\n",
    "        this.result=[]\n",
    "    }\n",
    "    handleRow(row,i) {\n",
    "        this.result.push(row.split(','));\n",
    "    }\n",
    "}\n",
    "\n",
    "function parseCsv(stringData, rowHandler, rowLimit) {\n",
    "    if (rowHandler == null) {\n",
    "        rowHandler = new RowHandler()\n",
    "    }\n",
    "    \n",
    "    const rows=stringData.split('\\n');\n",
    "    if (rowLimit==null) {\n",
    "        rowLimit=rows.length;\n",
    "    }\n",
    "    for (let i=0; i<rowLimit; i++) {\n",
    "        const row=rows[i];\n",
    "        if (row !== '') {\n",
    "            rowHandler.handleRow(row,i);\n",
    "        }\n",
    "    }\n",
    "    return rowHandler;\n",
    "}"
   ]
  },
  {
   "cell_type": "code",
   "execution_count": 6,
   "id": "assigned-retrieval",
   "metadata": {},
   "outputs": [
    {
     "name": "stdout",
     "output_type": "stream",
     "text": [
      "0 [ '5.1', '3.5', '1.4', '0.2', 'Iris-setosa' ]\n",
      "1 [ '4.9', '3.0', '1.4', '0.2', 'Iris-setosa' ]\n",
      "2 [ '4.7', '3.2', '1.3', '0.2', 'Iris-setosa' ]\n",
      "3 [ '4.6', '3.1', '1.5', '0.2', 'Iris-setosa' ]\n",
      "4 [ '5.0', '3.6', '1.4', '0.2', 'Iris-setosa' ]\n",
      "-5 [ '6.7', '3.0', '5.2', '2.3', 'Iris-virginica' ]\n",
      "-4 [ '6.3', '2.5', '5.0', '1.9', 'Iris-virginica' ]\n",
      "-3 [ '6.5', '3.0', '5.2', '2.0', 'Iris-virginica' ]\n",
      "-2 [ '6.2', '3.4', '5.4', '2.3', 'Iris-virginica' ]\n",
      "-1 [ '5.9', '3.0', '5.1', '1.8', 'Iris-virginica' ]\n"
     ]
    }
   ],
   "source": [
    "let stringData=require('fs').readFileSync('data/iris.data').toString();\n",
    "let data=parseCsv(stringData).result;\n",
    "head(data,5)\n",
    "tail(data,5)"
   ]
  },
  {
   "cell_type": "markdown",
   "id": "cognitive-indie",
   "metadata": {},
   "source": [
    "We can use `IrisRowHandler` &darr; and `parseCsv` &uarr; to prepare [iris.data](https://archive.ics.uci.edu/ml/datasets/iris) for learning."
   ]
  },
  {
   "cell_type": "code",
   "execution_count": 7,
   "id": "greatest-gambling",
   "metadata": {},
   "outputs": [],
   "source": [
    "/**\n",
    "Convert a row of the iris dataset from string values to numbers (for input features) targets.\n",
    "*/\n",
    "const IRIS_CLASS_MAP = {\n",
    "    0: 'Iris-setosa',\n",
    "    'Iris-setosa-onehot': [1,0,0],\n",
    "    'Iris-setosa-classid': 0,\n",
    "    1: 'Iris-versicolor',\n",
    "    'Iris-versicolor-onehot': [0,1,0],\n",
    "    'Iris-versicolor-classid': 1,\n",
    "    2: 'Iris-virginica',\n",
    "    'Iris-virginica-onehot': [0,0,1],\n",
    "    'Iris-virginica-classid': 2\n",
    "};\n",
    "class IrisRowHandler {\n",
    "    constructor(targetType) {\n",
    "        this.targetType = (targetType==null) ? 'onehot' : targetType;\n",
    "        this.result=[[],[]];\n",
    "    }\n",
    "    normalize(row) {\n",
    "        return [\n",
    "            (row[0]-5.843333333)/0.828066128,\n",
    "            (row[1]-3.054)/0.433594311,\n",
    "            (row[2]-3.758666667)/1.76442042,\n",
    "            (row[3]-1.198666667)/0.763160742\n",
    "        ];\n",
    "    }\n",
    "    handleRow(row) {\n",
    "        row = row.split(',');\n",
    "        // convert datatypes and normalize input features\n",
    "        this.result[0].push(this.normalize(row.slice(0,4).map(a=>parseFloat(a))));\n",
    "        this.result[1].push(IRIS_CLASS_MAP[`${row[4]}-${this.targetType}`]);\n",
    "    }\n",
    "}"
   ]
  },
  {
   "cell_type": "code",
   "execution_count": 8,
   "id": "labeled-synthetic",
   "metadata": {},
   "outputs": [],
   "source": [
    "let rh=new IrisRowHandler();\n",
    "rh.handleRow('5.1,3.5,1.4,0.2,Iris-setosa');\n",
    "testEq([1,4],shape(rh.result[0]));\n",
    "testEq([[1,0,0]],rh.result[1]);"
   ]
  },
  {
   "cell_type": "code",
   "execution_count": 9,
   "id": "prerequisite-bristol",
   "metadata": {},
   "outputs": [
    {
     "name": "stdout",
     "output_type": "stream",
     "text": [
      "0 [\n",
      "  -0.8976738787702239,\n",
      "  1.0286112817564161,\n",
      "  -1.3367940204410014,\n",
      "  -1.3085928193617695\n",
      "]\n",
      "1 [\n",
      "  -1.1392004830319542,\n",
      "  -0.12454037940548492,\n",
      "  -1.3367940204410014,\n",
      "  -1.3085928193617695\n",
      "]\n",
      "2 [\n",
      "  -1.3807270872936854,\n",
      "  0.3367202850592759,\n",
      "  -1.3934698551040348,\n",
      "  -1.3085928193617695\n",
      "]\n",
      "0 [ 1, 0, 0 ]\n",
      "1 [ 1, 0, 0 ]\n",
      "2 [ 1, 0, 0 ]\n",
      "-3 [\n",
      "  -0.8976738787702239,\n",
      "  1.0286112817564161,\n",
      "  -1.3367940204410014,\n",
      "  -1.3085928193617695\n",
      "]\n",
      "-2 [\n",
      "  -1.1392004830319542,\n",
      "  -0.12454037940548492,\n",
      "  -1.3367940204410014,\n",
      "  -1.3085928193617695\n",
      "]\n",
      "-1 [\n",
      "  -1.3807270872936854,\n",
      "  0.3367202850592759,\n",
      "  -1.3934698551040348,\n",
      "  -1.3085928193617695\n",
      "]\n",
      "-3 [ 1, 0, 0 ]\n",
      "-2 [ 1, 0, 0 ]\n",
      "-1 [ 1, 0, 0 ]\n"
     ]
    }
   ],
   "source": [
    "let rowHandler=parseCsv(stringData, new IrisRowHandler(), 3);\n",
    "let data=rowHandler.result;\n",
    "head(data[0]) // x\n",
    "head(data[1]) // y\n",
    "tail(data[0]) // x\n",
    "tail(data[1]) // y"
   ]
  },
  {
   "cell_type": "markdown",
   "id": "editorial-canon",
   "metadata": {},
   "source": [
    "## Shuffle\n",
    "\n",
    "The following `shuffle` function is borrowed from https://bost.ocks.org/mike/shuffle/ - modified to shuffle multiple arrays in the same way."
   ]
  },
  {
   "cell_type": "code",
   "execution_count": 10,
   "id": "furnished-republican",
   "metadata": {},
   "outputs": [],
   "source": [
    "/**\n",
    "Shuffle any number of arrays in the same way.\n",
    "*/\n",
    "function shuffle(arrays) {\n",
    "    var m = arrays[0].length, t, i;\n",
    "    // While there remain elements to shuffle…\n",
    "    while (m) {\n",
    "        // Pick a remaining element…\n",
    "        i = Math.floor(Math.random() * m--);\n",
    "        // And swap it with the current element.\n",
    "        arrays.forEach(array => {\n",
    "            t = array[m];\n",
    "            array[m] = array[i];\n",
    "            array[i] = t;\n",
    "        });\n",
    "    }\n",
    "    return arrays;\n",
    "}"
   ]
  },
  {
   "cell_type": "code",
   "execution_count": 11,
   "id": "forbidden-burke",
   "metadata": {},
   "outputs": [],
   "source": [
    "let a=[],b=[];\n",
    "for(let i=0; i<1000; i++) {\n",
    "    a.push(i);\n",
    "    b.push(i*10);\n",
    "}\n",
    "shuffle([a,b])\n",
    "b=b.map(x=>x/10)\n",
    "testEq(a,b)"
   ]
  },
  {
   "cell_type": "markdown",
   "id": "settled-property",
   "metadata": {},
   "source": [
    "## Split"
   ]
  },
  {
   "cell_type": "code",
   "execution_count": 12,
   "id": "biological-undergraduate",
   "metadata": {},
   "outputs": [],
   "source": [
    "/**\n",
    "Split any number of arrays returning [100-`percent`, `percent`] for each array.\n",
    "*/\n",
    "function split(arrays, percent=0.2) {\n",
    "    const result=[];\n",
    "    arrays.forEach(array => {\n",
    "        const splitPos=Math.round(arrays[0].length*(1.0-percent));\n",
    "        result.push([array.slice(0,splitPos), array.slice(splitPos)]);\n",
    "    });\n",
    "    return result;\n",
    "}"
   ]
  },
  {
   "cell_type": "markdown",
   "id": "bearing-saudi",
   "metadata": {},
   "source": [
    "Note: In the test below `let [[xTrain,xValid],[yTrain,yValid]]=split(data);` uses destructuring to assign to `xTrain`, `xValid` etc. Without destructuring, we would do the same thing with ...\n",
    "```\n",
    "let xTrain=splitData[0][0];\n",
    "let xValid=splitData[0][1];\n",
    "let yTrain=splitData[1][0];\n",
    "let yValid=splitData[1][1];\n",
    "```"
   ]
  },
  {
   "cell_type": "code",
   "execution_count": 13,
   "id": "overhead-europe",
   "metadata": {},
   "outputs": [],
   "source": [
    "let data=parseCsv(stringData, new IrisRowHandler(), 9).result;\n",
    "let [[xTrain,xValid],[yTrain,yValid]]=split(data);\n",
    "testEq([7,4], shape(xTrain));\n",
    "testEq([2,4], shape(xValid));\n",
    "testEq([7,3], shape(yTrain));\n",
    "testEq([2,3], shape(yValid));"
   ]
  },
  {
   "cell_type": "markdown",
   "id": "dominican-resort",
   "metadata": {},
   "source": [
    "Note: `[...Array(10).keys()]` would be `list(range(10))` in python"
   ]
  },
  {
   "cell_type": "code",
   "execution_count": 14,
   "id": "favorite-device",
   "metadata": {},
   "outputs": [
    {
     "name": "stdout",
     "output_type": "stream",
     "text": [
      "[ [\n",
      "    9, 8, 5, 2, 6,\n",
      "    1, 4, 3, 7, 0\n",
      "  ] ]\n"
     ]
    }
   ],
   "source": [
    "let data=[[...Array(10).keys()]];\n",
    "let [[xTrain,xValid]]=split(data, .3);\n",
    "testEq([0,1,2,3,4,5,6], xTrain);\n",
    "testEq([7,8,9], xValid);\n",
    "shuffle(data);\n",
    "// not sure how to test that this got shuffled properly, so we'll just print it\n",
    "data"
   ]
  },
  {
   "cell_type": "code",
   "execution_count": 15,
   "id": "communist-leave",
   "metadata": {},
   "outputs": [
    {
     "name": "stdout",
     "output_type": "stream",
     "text": [
      "[ [ [\n",
      "      9, 8, 5, 2,\n",
      "      6, 1, 4, 3\n",
      "    ], [ 7, 0 ] ] ]\n"
     ]
    }
   ],
   "source": [
    "// then print the split result\n",
    "split(data)"
   ]
  },
  {
   "cell_type": "markdown",
   "id": "molecular-tract",
   "metadata": {},
   "source": [
    "## Batch"
   ]
  },
  {
   "cell_type": "code",
   "execution_count": 16,
   "id": "czech-treasure",
   "metadata": {},
   "outputs": [],
   "source": [
    "/**\n",
    "Shuffle any number of arrays then put them into an array of batches.\n",
    "*/\n",
    "function batches(arrays, bs=64, dropLast=false, shuffleArrays=true) {\n",
    "    if (shuffleArrays) {\n",
    "        shuffle(arrays);\n",
    "    }\n",
    "    const result=[];\n",
    "    let batchCount=(dropLast) ? Math.floor(arrays[0].length/bs) : arrays[0].length/bs;\n",
    "    for (let i=0; i<batchCount; i++) {\n",
    "        const batch=[];\n",
    "        result.push(batch);\n",
    "        arrays.forEach(array=>batch.push(array.slice(bs*i,bs*(i+1))));\n",
    "    }\n",
    "    return result;\n",
    "}"
   ]
  },
  {
   "cell_type": "code",
   "execution_count": 17,
   "id": "connected-logistics",
   "metadata": {},
   "outputs": [],
   "source": [
    "let data=parseCsv(stringData, new IrisRowHandler(), 10).result;\n",
    "let batchesOfData=batches(data,3)\n",
    "testEq(4, batchesOfData.length);\n",
    "testEq(2, batchesOfData[0].length);\n",
    "testEq([3,4], shape(batchesOfData[0][0])); // 1st batch has 3 items\n",
    "testEq([3,3], shape(batchesOfData[0][1]));\n",
    "testEq(2, batchesOfData[3].length);\n",
    "testEq([1,4], shape(batchesOfData[3][0])); // last batch has 1 item\n",
    "testEq([1,3], shape(batchesOfData[3][1]));\n",
    "batchesOfData=batches(data,3,true)\n",
    "testEq(3, batchesOfData.length);\n",
    "testEq(2, batchesOfData[0].length);\n",
    "testEq([3,4], shape(batchesOfData[2][0])); // last batch has 3 items\n",
    "testEq([3,3], shape(batchesOfData[2][1]));"
   ]
  },
  {
   "cell_type": "code",
   "execution_count": 18,
   "id": "infinite-penetration",
   "metadata": {},
   "outputs": [],
   "source": [
    "// test the no-shuffle option\n",
    "let data=[[0,1,2],[3,4,5]];\n",
    "testEq([[[0,1,2],[3,4,5]]],batches(data,64,false,false));"
   ]
  },
  {
   "cell_type": "code",
   "execution_count": 19,
   "id": "vocational-frederick",
   "metadata": {},
   "outputs": [],
   "source": [
    "export {head,tail,parseCsv,IRIS_CLASS_MAP,RowHandler,IrisRowHandler,shuffle,split,batches}"
   ]
  }
 ],
 "metadata": {
  "kernelspec": {
   "display_name": "JavaScript",
   "language": "javascript",
   "name": "jslab"
  },
  "language_info": {
   "file_extension": ".js",
   "mimetype": "text/javascript",
   "name": "javascript",
   "version": ""
  }
 },
 "nbformat": 4,
 "nbformat_minor": 5
}
