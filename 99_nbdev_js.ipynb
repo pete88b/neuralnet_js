{
 "cells": [
  {
   "cell_type": "markdown",
   "id": "invalid-plain",
   "metadata": {},
   "source": [
    "# Quick and dirty conversion of notebooks to js scripts\n",
    "\n",
    "Borrowing from [nbdev](https://github.com/fastai/nbdev/), this notebook will create `nbdev_js.py`. \n",
    "\n",
    "Use `nbdev_js.py` to convert notebooks to js scripts.\n",
    "\n",
    "You can convert all notebooks, in the current working directory, programatically;\n",
    "```\n",
    "from nbdev_js import notebook2script\n",
    "notebook2script()\n",
    "```\n",
    "or from the command line;\n",
    "```\n",
    "python nbdev_js.py\n",
    "```\n",
    "By default, `nbdev_js.py` will;\n",
    "- read all notebook files that match the glob pattern `'./[!_]*.ipynb'`\n",
    "    - all notebooks, in the current working directory, that don't start with `_`\n",
    "    - this can be overriden via the `fname` param\n",
    "- convert all notebooks that have `//default_exp <name>` in the first cell\n",
    "    - `<name>` will be used as the js script name\n",
    "- write js files to a `src` directory\n",
    "    - this can be overriden via the `target` param\n",
    "    \n",
    "Just as an example, you could convert 00_util.ipynb and save the js script to the current working directory with;\n",
    "\n",
    "```\n",
    "!python nbdev_js.py ./00_util.ipynb .\n",
    "```"
   ]
  },
  {
   "cell_type": "code",
   "execution_count": 1,
   "id": "literary-placement",
   "metadata": {},
   "outputs": [],
   "source": [
    "from nbdev_quick import *\n",
    "nbdev_quick.init('nbdev_js')"
   ]
  },
  {
   "cell_type": "code",
   "execution_count": 2,
   "id": "similar-austria",
   "metadata": {},
   "outputs": [],
   "source": [
    "%%nbdev_export\n",
    "from pathlib import Path\n",
    "import glob, re, nbconvert, nbformat\n",
    "# TODO: describe conda env / dependencies\n",
    "# TODO: add this to Dockerfile and use py notebook and command line from there"
   ]
  },
  {
   "cell_type": "code",
   "execution_count": 3,
   "id": "complicated-republican",
   "metadata": {},
   "outputs": [],
   "source": [
    "%%nbdev_export\n",
    "def read_nb(fname):\n",
    "    \"Read the notebook in `fname`.\"\n",
    "    with open(Path(fname),'r', encoding='utf8') as f: return nbformat.reads(f.read(), as_version=4)"
   ]
  },
  {
   "cell_type": "code",
   "execution_count": 4,
   "id": "herbal-southwest",
   "metadata": {},
   "outputs": [],
   "source": [
    "%%nbdev_export\n",
    "def check_re(cell, pat, code_only=True):\n",
    "    \"Check if `cell` contains a line with regex `pat`\"\n",
    "    if code_only and cell['cell_type'] != 'code': return\n",
    "    if isinstance(pat, str): pat = re.compile(pat, re.IGNORECASE | re.MULTILINE)\n",
    "    return pat.search(cell['source'])"
   ]
  },
  {
   "cell_type": "code",
   "execution_count": 5,
   "id": "unnecessary-bikini",
   "metadata": {},
   "outputs": [],
   "source": [
    "%%nbdev_export\n",
    "def _find_default_exp(nb):\n",
    "    m=re.search(r'^//default_exp (\\w+)', nb['cells'][0]['source'])\n",
    "    if m is None: return None\n",
    "    return m.group(1)"
   ]
  },
  {
   "cell_type": "code",
   "execution_count": 6,
   "id": "medium-collar",
   "metadata": {},
   "outputs": [],
   "source": [
    "%%nbdev_export\n",
    "def _notebook2script(fname, target):\n",
    "    fname,target,nb = Path(fname),Path(target),read_nb(fname)\n",
    "    default_exp=_find_default_exp(nb)\n",
    "    if default_exp is None: return\n",
    "    target.mkdir(parents=True,exist_ok=True)\n",
    "    target_file=target/f'{default_exp}.js'\n",
    "    print('Converting',fname,'to',target_file)\n",
    "    with open(target_file, 'w') as f:\n",
    "        for cell in nb['cells']:\n",
    "            if check_re(cell, r'(^/\\*\\*)|(^export )') is not None:\n",
    "                f.write(cell['source'])\n",
    "                f.write('\\n\\n')"
   ]
  },
  {
   "cell_type": "code",
   "execution_count": 7,
   "id": "coral-lancaster",
   "metadata": {},
   "outputs": [],
   "source": [
    "%%nbdev_export\n",
    "def notebook2script(fname=None, target='src'):\n",
    "    for f in glob.glob('./[!_]*.ipynb' if fname is None else fname):\n",
    "        _notebook2script(f, target)"
   ]
  },
  {
   "cell_type": "markdown",
   "id": "affecting-destruction",
   "metadata": {},
   "source": [
    "Quick test to convert notebooks programatically"
   ]
  },
  {
   "cell_type": "code",
   "execution_count": 8,
   "id": "mighty-gender",
   "metadata": {},
   "outputs": [
    {
     "name": "stdout",
     "output_type": "stream",
     "text": [
      "Converting 00_util.ipynb to src\\util.js\n",
      "Converting 10_data.ipynb to src\\data.js\n",
      "Converting 20_nn.ipynb to src\\nn.js\n"
     ]
    }
   ],
   "source": [
    "notebook2script()"
   ]
  },
  {
   "cell_type": "code",
   "execution_count": 9,
   "id": "optical-citizenship",
   "metadata": {},
   "outputs": [
    {
     "name": "stdout",
     "output_type": "stream",
     "text": [
      "Converting 10_data.ipynb to src\\data.js\n"
     ]
    }
   ],
   "source": [
    "notebook2script('./10_*.ipynb')"
   ]
  },
  {
   "cell_type": "markdown",
   "id": "intelligent-marsh",
   "metadata": {},
   "source": [
    "## Create README.md"
   ]
  },
  {
   "cell_type": "code",
   "execution_count": 10,
   "id": "arranged-consequence",
   "metadata": {},
   "outputs": [],
   "source": [
    "%%nbdev_export\n",
    "def notebook2md(fname='index.ipynb'):\n",
    "    \"Convert a notebook to README.md in the current working directory\"\n",
    "    print('Converting',fname,'to README.md')\n",
    "    converter=nbconvert.MarkdownExporter()\n",
    "    md,resources=converter.from_filename(fname)\n",
    "    with open('README.md','w') as f: f.write(md)"
   ]
  },
  {
   "cell_type": "markdown",
   "id": "banner-maker",
   "metadata": {},
   "source": [
    "## Make `nbdev_js.py` runnable from the command line"
   ]
  },
  {
   "cell_type": "code",
   "execution_count": 11,
   "id": "inside-feelings",
   "metadata": {},
   "outputs": [],
   "source": [
    "%%nbdev_export\n",
    "try: IN_NOTEBOOK = 'google.colab' in str(get_ipython()) or 'ZMQInteractiveShell' in str(get_ipython())\n",
    "except: IN_NOTEBOOK = False"
   ]
  },
  {
   "cell_type": "code",
   "execution_count": 12,
   "id": "unlimited-invalid",
   "metadata": {},
   "outputs": [
    {
     "data": {
      "text/plain": [
       "True"
      ]
     },
     "execution_count": 12,
     "metadata": {},
     "output_type": "execute_result"
    }
   ],
   "source": [
    "IN_NOTEBOOK"
   ]
  },
  {
   "cell_type": "code",
   "execution_count": 13,
   "id": "nonprofit-semester",
   "metadata": {},
   "outputs": [],
   "source": [
    "%%nbdev_export\n",
    "import argparse\n",
    "if __name__ == '__main__' and not IN_NOTEBOOK:\n",
    "    parser = argparse.ArgumentParser(description='Convert notebooks to js scripts.')\n",
    "    parser.add_argument('fname', default=None, nargs='?', help='Pathname to glob.')\n",
    "    parser.add_argument('target', default='src', nargs='?',\n",
    "                        help='Name of directory to write js scripts to.')\n",
    "    args = parser.parse_args()\n",
    "    notebook2script(args.fname, args.target)\n",
    "    if Path('index.ipynb').is_file(): notebook2md()"
   ]
  },
  {
   "cell_type": "code",
   "execution_count": 14,
   "id": "characteristic-singles",
   "metadata": {},
   "outputs": [
    {
     "name": "stdout",
     "output_type": "stream",
     "text": [
      "usage: nbdev_js.py [-h] [fname] [target]\n",
      "\n",
      "Convert notebooks to js scripts.\n",
      "\n",
      "positional arguments:\n",
      "  fname       Pathname to glob.\n",
      "  target      Name of directory to write js scripts to.\n",
      "\n",
      "optional arguments:\n",
      "  -h, --help  show this help message and exit\n"
     ]
    }
   ],
   "source": [
    "!python nbdev_js.py -h"
   ]
  },
  {
   "cell_type": "code",
   "execution_count": 15,
   "id": "boring-discretion",
   "metadata": {},
   "outputs": [
    {
     "name": "stdout",
     "output_type": "stream",
     "text": [
      "Converting 00_util.ipynb to src\\util.js\n",
      "Converting index.ipynb to README.md\n"
     ]
    }
   ],
   "source": [
    "!python nbdev_js.py ./00_*.ipynb"
   ]
  }
 ],
 "metadata": {
  "kernelspec": {
   "display_name": "Python 3",
   "language": "python",
   "name": "python3"
  },
  "language_info": {
   "codemirror_mode": {
    "name": "ipython",
    "version": 3
   },
   "file_extension": ".py",
   "mimetype": "text/x-python",
   "name": "python",
   "nbconvert_exporter": "python",
   "pygments_lexer": "ipython3",
   "version": "3.8.0"
  }
 },
 "nbformat": 4,
 "nbformat_minor": 5
}
