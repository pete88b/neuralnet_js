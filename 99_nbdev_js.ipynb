{
 "cells": [
  {
   "cell_type": "markdown",
   "id": "invalid-plain",
   "metadata": {},
   "source": [
    "# Quick and dirty conversion of notebooks to js scripts\n",
    "\n",
    "Borrowing from [nbdev](https://github.com/fastai/nbdev/), this notebook will create `nbdev_js.py`. \n",
    "\n",
    "Use `nbdev_js.py` to convert notebooks to js scripts.\n",
    "\n",
    "You can convert all notebooks, in the current working directory, programatically;\n",
    "```\n",
    "from nbdev_js import notebook2script\n",
    "notebook2script()\n",
    "```\n",
    "or from the command line;\n",
    "```\n",
    "python nbdev_js.py\n",
    "```\n",
    "By default, `nbdev_js.py` will;\n",
    "- read all notebook files that match the glob pattern `'./[!_]*.ipynb'`\n",
    "    - all notebooks, in the current working directory, that don't start with `_`\n",
    "    - this can be overriden via the `fname` param\n",
    "- convert all notebooks that have `//default_exp <name>` in the first cell\n",
    "    - `<name>` will be used as the js script name\n",
    "- write `.js` and `.module.js`  files to a `src` directory\n",
    "    - this can be overriden via the `target` param\n",
    "- `.js` files will contain all code cells that start with `/**` and do not contain `import`\n",
    "- `.module.js` files will contain all code cells that start with `/**` or `export`\n",
    "    \n",
    "Just as an example, you could convert 00_util.ipynb and save the js script to the current working directory with;\n",
    "\n",
    "```\n",
    "!python nbdev_js.py ./00_util.ipynb .\n",
    "```"
   ]
  },
  {
   "cell_type": "code",
   "execution_count": 1,
   "id": "literary-placement",
   "metadata": {},
   "outputs": [],
   "source": [
    "from nbdev_quick import *\n",
    "nbdev_quick.init('nbdev_js')"
   ]
  },
  {
   "cell_type": "code",
   "execution_count": 2,
   "id": "similar-austria",
   "metadata": {},
   "outputs": [],
   "source": [
    "%%nbdev_export\n",
    "from pathlib import Path\n",
    "import glob, re, nbconvert, nbformat\n",
    "# TODO: describe conda env / dependencies\n",
    "# TODO: add this to Dockerfile and use py notebook and command line from there"
   ]
  },
  {
   "cell_type": "code",
   "execution_count": 3,
   "id": "complicated-republican",
   "metadata": {},
   "outputs": [],
   "source": [
    "%%nbdev_export\n",
    "def read_nb(fname):\n",
    "    \"Read the notebook in `fname`.\"\n",
    "    with open(Path(fname),'r', encoding='utf8') as f: return nbformat.reads(f.read(), as_version=4)"
   ]
  },
  {
   "cell_type": "code",
   "execution_count": 4,
   "id": "herbal-southwest",
   "metadata": {},
   "outputs": [],
   "source": [
    "%%nbdev_export\n",
    "def check_re(cell, pat, code_only=True):\n",
    "    \"Check if `cell` contains a line with regex `pat`\"\n",
    "    if code_only and cell['cell_type'] != 'code': return\n",
    "    if isinstance(pat, str): pat = re.compile(pat, re.IGNORECASE | re.MULTILINE)\n",
    "    return pat.search(cell['source'])"
   ]
  },
  {
   "cell_type": "code",
   "execution_count": 5,
   "id": "unnecessary-bikini",
   "metadata": {},
   "outputs": [],
   "source": [
    "%%nbdev_export\n",
    "def _find_default_exp(nb):\n",
    "    m=re.search(r'^//default_exp (\\w+)', nb['cells'][0]['source'])\n",
    "    if m is None: return None\n",
    "    return m.group(1)"
   ]
  },
  {
   "cell_type": "code",
   "execution_count": 6,
   "id": "fatal-blink",
   "metadata": {},
   "outputs": [],
   "source": [
    "%%nbdev_export\n",
    "def _extract_and_process_source(cell,target):\n",
    "    source=cell['source']\n",
    "    if check_re(cell, rf'import.*from.*(/{target}/)') is not None:\n",
    "        source=source.replace(f'{target}/','')\n",
    "    return source"
   ]
  },
  {
   "cell_type": "code",
   "execution_count": 7,
   "id": "valid-discharge",
   "metadata": {},
   "outputs": [],
   "source": [
    "cell=dict(source=\"import {argmax} from './src/util';\",cell_type='code')\n",
    "assert \"import {argmax} from './util';\"==_extract_and_process_source(cell,'src')\n",
    "cell=dict(source=\" {argmax} from './src/util';\",cell_type='code')\n",
    "assert \" {argmax} from './src/util';\"==_extract_and_process_source(cell,'src')"
   ]
  },
  {
   "cell_type": "code",
   "execution_count": 8,
   "id": "medium-collar",
   "metadata": {},
   "outputs": [],
   "source": [
    "%%nbdev_export\n",
    "def _notebook2script(fname, target):\n",
    "    fname,target,nb = Path(fname),Path(target),read_nb(fname)\n",
    "    default_exp=_find_default_exp(nb)\n",
    "    if default_exp is None: return\n",
    "    target.mkdir(parents=True,exist_ok=True)\n",
    "    def _convert(include_regex,exclude_regex,target_file):\n",
    "        print('Converting',fname,'to',target_file)\n",
    "        with open(target_file, 'w') as f:\n",
    "            for cell in nb['cells']:\n",
    "                if check_re(cell, include_regex) is None: continue\n",
    "                if exclude_regex and check_re(cell, exclude_regex) is not None: continue\n",
    "                f.write(_extract_and_process_source(cell,target))\n",
    "                f.write('\\n\\n')\n",
    "    _convert(r'(^/\\*\\*)','(^import )',target/f'{default_exp}.js')\n",
    "    _convert(r'(^/\\*\\*)|(^export )',None,target/f'{default_exp}.module.js')"
   ]
  },
  {
   "cell_type": "code",
   "execution_count": 9,
   "id": "coral-lancaster",
   "metadata": {},
   "outputs": [],
   "source": [
    "%%nbdev_export\n",
    "def notebook2script(fname=None, target='src'):\n",
    "    for f in glob.glob('./[!_]*.ipynb' if fname is None else fname):\n",
    "        _notebook2script(f, target)"
   ]
  },
  {
   "cell_type": "markdown",
   "id": "affecting-destruction",
   "metadata": {},
   "source": [
    "Quick test to convert notebooks programatically"
   ]
  },
  {
   "cell_type": "code",
   "execution_count": 10,
   "id": "mighty-gender",
   "metadata": {},
   "outputs": [
    {
     "name": "stdout",
     "output_type": "stream",
     "text": [
      "Converting 00_testutil.ipynb to src/testutil.js\n",
      "Converting 00_testutil.ipynb to src/testutil.module.js\n",
      "Converting 10_util.ipynb to src/util.js\n",
      "Converting 10_util.ipynb to src/util.module.js\n",
      "Converting 20_data.ipynb to src/data.js\n",
      "Converting 20_data.ipynb to src/data.module.js\n",
      "Converting 30_nn.ipynb to src/nn.js\n",
      "Converting 30_nn.ipynb to src/nn.module.js\n"
     ]
    }
   ],
   "source": [
    "notebook2script()"
   ]
  },
  {
   "cell_type": "code",
   "execution_count": 11,
   "id": "optical-citizenship",
   "metadata": {},
   "outputs": [
    {
     "name": "stdout",
     "output_type": "stream",
     "text": [
      "Converting 10_util.ipynb to src/util.js\n",
      "Converting 10_util.ipynb to src/util.module.js\n"
     ]
    }
   ],
   "source": [
    "notebook2script('./10_*.ipynb')"
   ]
  },
  {
   "cell_type": "markdown",
   "id": "intelligent-marsh",
   "metadata": {},
   "source": [
    "## Create README.md"
   ]
  },
  {
   "cell_type": "code",
   "execution_count": 12,
   "id": "arranged-consequence",
   "metadata": {},
   "outputs": [],
   "source": [
    "%%nbdev_export\n",
    "def notebook2md(fname='index.ipynb'):\n",
    "    \"Convert a notebook to README.md in the current working directory\"\n",
    "    print('Converting',fname,'to README.md')\n",
    "    converter=nbconvert.MarkdownExporter()\n",
    "    md,resources=converter.from_filename(fname)\n",
    "    with open('README.md','w') as f: f.write(md)"
   ]
  },
  {
   "cell_type": "markdown",
   "id": "banner-maker",
   "metadata": {},
   "source": [
    "## Make `nbdev_js.py` runnable from the command line"
   ]
  },
  {
   "cell_type": "code",
   "execution_count": 13,
   "id": "inside-feelings",
   "metadata": {},
   "outputs": [],
   "source": [
    "%%nbdev_export\n",
    "try: IN_NOTEBOOK = 'google.colab' in str(get_ipython()) or 'ZMQInteractiveShell' in str(get_ipython())\n",
    "except: IN_NOTEBOOK = False"
   ]
  },
  {
   "cell_type": "code",
   "execution_count": 14,
   "id": "unlimited-invalid",
   "metadata": {},
   "outputs": [
    {
     "data": {
      "text/plain": [
       "True"
      ]
     },
     "execution_count": 14,
     "metadata": {},
     "output_type": "execute_result"
    }
   ],
   "source": [
    "IN_NOTEBOOK"
   ]
  },
  {
   "cell_type": "code",
   "execution_count": 15,
   "id": "nonprofit-semester",
   "metadata": {},
   "outputs": [],
   "source": [
    "%%nbdev_export\n",
    "import argparse\n",
    "if __name__ == '__main__' and not IN_NOTEBOOK:\n",
    "    parser = argparse.ArgumentParser(description='Convert notebooks to js scripts.')\n",
    "    parser.add_argument('fname', default=None, nargs='?', help='Pathname to glob.')\n",
    "    parser.add_argument('target', default='src', nargs='?',\n",
    "                        help='Name of directory to write js scripts to.')\n",
    "    args = parser.parse_args()\n",
    "    notebook2script(args.fname, args.target)\n",
    "    if Path('index.ipynb').is_file(): notebook2md()"
   ]
  },
  {
   "cell_type": "code",
   "execution_count": 16,
   "id": "characteristic-singles",
   "metadata": {},
   "outputs": [
    {
     "name": "stdout",
     "output_type": "stream",
     "text": [
      "usage: nbdev_js.py [-h] [fname] [target]\r\n",
      "\r\n",
      "Convert notebooks to js scripts.\r\n",
      "\r\n",
      "positional arguments:\r\n",
      "  fname       Pathname to glob.\r\n",
      "  target      Name of directory to write js scripts to.\r\n",
      "\r\n",
      "optional arguments:\r\n",
      "  -h, --help  show this help message and exit\r\n"
     ]
    }
   ],
   "source": [
    "!python3 nbdev_js.py -h"
   ]
  },
  {
   "cell_type": "code",
   "execution_count": 17,
   "id": "boring-discretion",
   "metadata": {},
   "outputs": [
    {
     "name": "stdout",
     "output_type": "stream",
     "text": [
      "Converting 00_testutil.ipynb to src/testutil.js\n",
      "Converting 00_testutil.ipynb to src/testutil.module.js\n",
      "Converting index.ipynb to README.md\n"
     ]
    }
   ],
   "source": [
    "!python3 nbdev_js.py ./00_*.ipynb"
   ]
  }
 ],
 "metadata": {
  "kernelspec": {
   "display_name": "Python 3",
   "language": "python",
   "name": "python3"
  },
  "language_info": {
   "codemirror_mode": {
    "name": "ipython",
    "version": 3
   },
   "file_extension": ".py",
   "mimetype": "text/x-python",
   "name": "python",
   "nbconvert_exporter": "python",
   "pygments_lexer": "ipython3",
   "version": "3.7.3"
  }
 },
 "nbformat": 4,
 "nbformat_minor": 5
}
