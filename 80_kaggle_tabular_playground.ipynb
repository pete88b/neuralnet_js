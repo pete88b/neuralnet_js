{
 "cells": [
  {
   "cell_type": "markdown",
   "id": "referenced-exemption",
   "metadata": {},
   "source": [
    "# Kaggle: Tabular Playground Series - May 2021\n",
    "\n",
    "If you'd like to run this notebook, please download the extract to dataset from https://www.kaggle.com/c/tabular-playground-series-may-2021 to `data/kaggle`"
   ]
  },
  {
   "cell_type": "code",
   "execution_count": 1,
   "id": "obvious-lloyd",
   "metadata": {},
   "outputs": [],
   "source": [
    "import {round,flatten,exp,shape,transpose,dotProduct,randn,uniform,full,zeros,mean,reshape,argmax,\n",
    "        matrixSum1d,matrixSum2d,matrixSubtract1d,matrixSubtract2d,matrixMultiply1d,matrixMultiply2d,\n",
    "        normalize,identity,meanAndStandardDeviation,} from './src/util.module.js';\n",
    "import {head,tail,parseCsv} from './src/data.module.js';\n",
    "import {BinaryCrossEntropyLoss,CrossEntropyLoss,Linear,Sigmoid,ReLU,Learner} from './src/nn.module.js';"
   ]
  },
  {
   "cell_type": "code",
   "execution_count": 2,
   "id": "adjacent-document",
   "metadata": {},
   "outputs": [],
   "source": [
    "let stringData=require('fs').readFileSync('data/kaggle/train.csv').toString();"
   ]
  },
  {
   "cell_type": "code",
   "execution_count": 3,
   "id": "super-trout",
   "metadata": {},
   "outputs": [
    {
     "name": "stdout",
     "output_type": "stream",
     "text": [
      "{\n",
      "  '0': 'Class_1',\n",
      "  '1': 'Class_2',\n",
      "  '2': 'Class_3',\n",
      "  '3': 'Class_4',\n",
      "  'Class_1-onehot': [ 1, 0, 0, 0 ],\n",
      "  'Class_1-classid': 0,\n",
      "  'Class_2-onehot': [ 0, 1, 0, 0 ],\n",
      "  'Class_2-classid': 1,\n",
      "  'Class_3-onehot': [ 0, 0, 1, 0 ],\n",
      "  'Class_3-classid': 2,\n",
      "  'Class_4-onehot': [ 0, 0, 0, 1 ],\n",
      "  'Class_4-classid': 3\n",
      "}\n"
     ]
    }
   ],
   "source": [
    "const CLASS_MAP = {};\n",
    "const _identity=identity(4);\n",
    "[...Array(4).keys()].forEach(i=>{\n",
    "    CLASS_MAP[i]=`Class_${i+1}`;\n",
    "    CLASS_MAP[`Class_${i+1}-onehot`]=_identity[i];\n",
    "    CLASS_MAP[`Class_${i+1}-classid`]=i;\n",
    "});\n",
    "CLASS_MAP"
   ]
  },
  {
   "cell_type": "code",
   "execution_count": 4,
   "id": "excited-dylan",
   "metadata": {},
   "outputs": [],
   "source": [
    "class DataRowHandler {\n",
    "    constructor(targetType) {\n",
    "        this.targetType = (targetType==null) ? 'onehot' : targetType;\n",
    "        this.result=[[],[]];\n",
    "    }\n",
    "    handleRow(row,i) {\n",
    "        if (i==0) return;\n",
    "        row = row.split(',');\n",
    "        this.result[0].push(row.slice(1,51).map(a=>parseFloat(a)));\n",
    "        this.result[1].push(CLASS_MAP[`${row[51]}-${this.targetType}`]);\n",
    "    }\n",
    "}"
   ]
  },
  {
   "cell_type": "code",
   "execution_count": 14,
   "id": "preliminary-moldova",
   "metadata": {},
   "outputs": [
    {
     "name": "stdout",
     "output_type": "stream",
     "text": [
      "epoch -1 valid loss 0.7344175807653834 metrics [ 0.273 ]\n",
      "epoch 0 valid loss 0.5982401853821188 metrics [ 0.441 ]\n",
      "epoch 1 valid loss 0.5733174043004285 metrics [ 0.494 ]\n",
      "epoch 2 valid loss 0.5630355804535359 metrics [ 0.505 ]\n",
      "epoch 3 valid loss 0.5566022618778866 metrics [ 0.509 ]\n",
      "epoch 4 valid loss 0.5517827919197905 metrics [ 0.513 ]\n",
      "epoch 5 valid loss 0.5478848960719098 metrics [ 0.515 ]\n",
      "epoch 6 valid loss 0.5443343993744512 metrics [ 0.518 ]\n",
      "epoch 7 valid loss 0.5411434317167338 metrics [ 0.519 ]\n",
      "epoch 8 valid loss 0.5384417522267655 metrics [ 0.518 ]\n",
      "epoch 9 valid loss 0.5354448920240993 metrics [ 0.517 ]\n"
     ]
    }
   ],
   "source": [
    "let data=parseCsv(stringData, new DataRowHandler('onehot'),5000).result;\n",
    "data[0]=normalize(data[0]);\n",
    "let lossFn=new BinaryCrossEntropyLoss();\n",
    "let model=[new Linear(50,100), new ReLU(), new Linear(100,4), new Sigmoid()];\n",
    "let learn=new Learner(model, lossFn, data);\n",
    "learn.fit(10,3e-3);"
   ]
  },
  {
   "cell_type": "code",
   "execution_count": 16,
   "id": "turkish-doctor",
   "metadata": {},
   "outputs": [
    {
     "name": "stdout",
     "output_type": "stream",
     "text": [
      "0 [\n",
      "  [\n",
      "    0.04738580760739074,\n",
      "    0.6159061619317402,\n",
      "    0.08083266355933032,\n",
      "    0.12762368804514845\n",
      "  ],\n",
      "  '1: Class_2',\n",
      "  '0: Class_1'\n",
      "]\n",
      "1 [\n",
      "  [\n",
      "    0.23486176662583835,\n",
      "    0.3384535467359777,\n",
      "    0.32449213160460993,\n",
      "    0.3307962614825894\n",
      "  ],\n",
      "  '1: Class_2',\n",
      "  '3: Class_4'\n",
      "]\n",
      "2 [\n",
      "  [\n",
      "    0.024346154631035996,\n",
      "    0.876295510092895,\n",
      "    0.060946196514458546,\n",
      "    0.08674747970519878\n",
      "  ],\n",
      "  '1: Class_2',\n",
      "  '0: Class_1'\n",
      "]\n"
     ]
    }
   ],
   "source": [
    "function yToLabelFn(y) {\n",
    "    if (Array.isArray(y)) {\n",
    "        y=argmax(y);\n",
    "    }\n",
    "    return `${y}: ${CLASS_MAP[y]}`\n",
    "}\n",
    "// For each row, learn.predict gives us [preds, predicted label, actual label]\n",
    "let preds=learn.predict(learn.xValid, learn.yValid, yToLabelFn);\n",
    "head(preds,3);"
   ]
  },
  {
   "cell_type": "code",
   "execution_count": 17,
   "id": "fabulous-sample",
   "metadata": {},
   "outputs": [
    {
     "name": "stdout",
     "output_type": "stream",
     "text": [
      "epoch -1 valid loss 1.3396573086502428 metrics [ 0.506 ]\n",
      "epoch 0 valid loss 1.2989734661898056 metrics [ 0.505 ]\n",
      "epoch 1 valid loss 1.2735455834101406 metrics [ 0.512 ]\n",
      "epoch 2 valid loss 1.2556609071949523 metrics [ 0.517 ]\n",
      "epoch 3 valid loss 1.2417171477137985 metrics [ 0.521 ]\n",
      "epoch 4 valid loss 1.2310551727225894 metrics [ 0.528 ]\n",
      "epoch 5 valid loss 1.2230947066738047 metrics [ 0.533 ]\n",
      "epoch 6 valid loss 1.2162349781734534 metrics [ 0.538 ]\n",
      "epoch 7 valid loss 1.2094647160869438 metrics [ 0.541 ]\n",
      "epoch 8 valid loss 1.204161103061065 metrics [ 0.542 ]\n",
      "epoch 9 valid loss 1.199396474937912 metrics [ 0.542 ]\n"
     ]
    }
   ],
   "source": [
    "let data=parseCsv(stringData, new DataRowHandler('classid'),5000).result;\n",
    "data[0]=normalize(data[0]);\n",
    "let lossFn=new CrossEntropyLoss();\n",
    "let model=[new Linear(50,100), new ReLU(), new Linear(100,4)];\n",
    "let learn=new Learner(model, lossFn, data);\n",
    "learn.fit(10,3e-3);"
   ]
  },
  {
   "cell_type": "code",
   "execution_count": 18,
   "id": "coastal-attachment",
   "metadata": {},
   "outputs": [
    {
     "name": "stdout",
     "output_type": "stream",
     "text": [
      "0 [\n",
      "  [\n",
      "    -0.32459711743356645,\n",
      "    2.2448262942067467,\n",
      "    0.4535846080218559,\n",
      "    -0.451170345664062\n",
      "  ],\n",
      "  '1: Class_2',\n",
      "  '1: Class_2'\n",
      "]\n",
      "1 [\n",
      "  [\n",
      "    -0.9707653114763204,\n",
      "    1.5153784425638128,\n",
      "    -0.19168877249443797,\n",
      "    -1.50457828106656\n",
      "  ],\n",
      "  '1: Class_2',\n",
      "  '0: Class_1'\n",
      "]\n",
      "2 [\n",
      "  [\n",
      "    -0.9498879280753949,\n",
      "    0.35540389919180854,\n",
      "    -1.1942133276787985,\n",
      "    -1.1649341005165545\n",
      "  ],\n",
      "  '1: Class_2',\n",
      "  '1: Class_2'\n",
      "]\n"
     ]
    }
   ],
   "source": [
    "// For each row, learn.predict gives us [preds, predicted label, actual label]\n",
    "let preds=learn.predict(learn.xValid, learn.yValid, yToLabelFn);\n",
    "head(preds,3);"
   ]
  }
 ],
 "metadata": {
  "kernelspec": {
   "display_name": "JavaScript",
   "language": "javascript",
   "name": "jslab"
  },
  "language_info": {
   "file_extension": ".js",
   "mimetype": "text/javascript",
   "name": "javascript",
   "version": ""
  }
 },
 "nbformat": 4,
 "nbformat_minor": 5
}
