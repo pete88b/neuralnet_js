{
 "cells": [
  {
   "cell_type": "code",
   "execution_count": null,
   "id": "southern-attempt",
   "metadata": {},
   "outputs": [],
   "source": [
    "//default_exp util"
   ]
  },
  {
   "cell_type": "markdown",
   "id": "stuffed-shuttle",
   "metadata": {},
   "source": [
    "# Util\n",
    "\n",
    "> Low level functions needed to build a neural net."
   ]
  },
  {
   "cell_type": "code",
   "execution_count": 1,
   "id": "thick-option",
   "metadata": {},
   "outputs": [],
   "source": [
    "import {testEq} from './src/testutil.module.js'"
   ]
  },
  {
   "cell_type": "code",
   "execution_count": 2,
   "id": "third-universe",
   "metadata": {},
   "outputs": [],
   "source": [
    "/**\n",
    "Round `x` (or all elements of `x`) to `dp` decimal places.\n",
    "*/\n",
    "function round(x,dp) {\n",
    "    dp = dp || 0;\n",
    "    if (Array.isArray(x)) {\n",
    "        return x.map(_x => round(_x,dp));\n",
    "    }\n",
    "    return Math.round(x*Math.pow(10,dp))/Math.pow(10,dp);\n",
    "}"
   ]
  },
  {
   "cell_type": "code",
   "execution_count": 3,
   "id": "retired-integral",
   "metadata": {},
   "outputs": [],
   "source": [
    "testEq(1,round(1.2345));\n",
    "testEq(1,round(1.2345,0));\n",
    "testEq(1.2,round(1.2345,1));\n",
    "testEq(1.23,round(1.2345,2));\n",
    "testEq(1.235,round(1.2345,3));\n",
    "testEq(1.2345,round(1.2345,4));\n",
    "testEq(1.2345,round(1.2345,5));\n",
    "\n",
    "testEq([1.2],round([1.2345],1));\n",
    "testEq([1.2, 2.2],round([1.2345, 2.19],1));"
   ]
  },
  {
   "cell_type": "code",
   "execution_count": 4,
   "id": "located-cookie",
   "metadata": {},
   "outputs": [],
   "source": [
    "/**\n",
    "Logit (AKA log-odds) is the logarithm of the odds where p is a probability.\n",
    "*/\n",
    "function logit(p) {\n",
    "    if (Array.isArray(p)) {\n",
    "        return p.map(a=>logit(a));\n",
    "    }\n",
    "    return Math.log(p/(1-p));\n",
    "}"
   ]
  },
  {
   "cell_type": "code",
   "execution_count": 5,
   "id": "military-viewer",
   "metadata": {},
   "outputs": [],
   "source": [
    "testEq(\n",
    "    [NaN, -Infinity, -1.0986, 0, 1.0986, Infinity, NaN],\n",
    "    round(logit([-0.25, 0.00, 0.25, 0.50, 0.75, 1.00, 1.25]),4));"
   ]
  },
  {
   "cell_type": "code",
   "execution_count": 6,
   "id": "instant-snowboard",
   "metadata": {},
   "outputs": [],
   "source": [
    "/**\n",
    "Flatten a 2d array into a 1d array.\n",
    "*/\n",
    "function flatten(a2d) {\n",
    "    return [].concat(...a2d);\n",
    "}"
   ]
  },
  {
   "cell_type": "code",
   "execution_count": 7,
   "id": "residential-terry",
   "metadata": {},
   "outputs": [],
   "source": [
    "/**\n",
    "*/\n",
    "function exp(a) {\n",
    "    return Math.pow(Math.E, a);\n",
    "}"
   ]
  },
  {
   "cell_type": "code",
   "execution_count": 8,
   "id": "physical-rotation",
   "metadata": {},
   "outputs": [],
   "source": [
    "/**\n",
    "Returns the shape of an \"n\" dimentional array.\n",
    "*/\n",
    "function shape(m) {\n",
    "    const result=[];\n",
    "    while (Array.isArray(m)) {\n",
    "        result.push(m.length);\n",
    "        m=m[0];\n",
    "    }\n",
    "    return result;\n",
    "}"
   ]
  },
  {
   "cell_type": "code",
   "execution_count": 9,
   "id": "sufficient-ethernet",
   "metadata": {},
   "outputs": [],
   "source": [
    "testEq([0], shape([]));\n",
    "testEq([1,0], shape([[]]));\n",
    "testEq([1,1,3,2], shape([[[[0,1],[3,3],[4,4]]]]));"
   ]
  },
  {
   "cell_type": "code",
   "execution_count": 10,
   "id": "connected-chapel",
   "metadata": {},
   "outputs": [],
   "source": [
    "/**\n",
    "Returns the mean of all elements in a 1d or 2d array.\n",
    "*/\n",
    "function mean(matrix) {\n",
    "    if (!Array.isArray(matrix[0])) {\n",
    "        matrix=[matrix];\n",
    "    }\n",
    "    const elementCount=shape(matrix).reduce((a,b)=>a*b);\n",
    "    const sum=matrix.map(row=>row.reduce((a,b)=>a+b)).reduce((a,b)=>a+b);\n",
    "    return sum/elementCount;\n",
    "}"
   ]
  },
  {
   "cell_type": "code",
   "execution_count": 11,
   "id": "superb-tunisia",
   "metadata": {},
   "outputs": [],
   "source": [
    "testEq(13/6, mean([0,1,2,3,3,4]));\n",
    "testEq(13/6, mean([[0,1],[2,3],[3,4]]));"
   ]
  },
  {
   "cell_type": "code",
   "execution_count": 12,
   "id": "ultimate-edgar",
   "metadata": {},
   "outputs": [],
   "source": [
    "/**\n",
    "Return a 1d or 2d array of `fillValue`.\n",
    "*/\n",
    "function full(d0,d1,fillValue) {\n",
    "    if (d1 == null) {\n",
    "        return new Array(d0).fill(fillValue);\n",
    "    }\n",
    "    const result=[];\n",
    "    for (let i=0; i<d0; i++) {\n",
    "        result.push(new Array(d1).fill(fillValue));\n",
    "    }\n",
    "    return result;\n",
    "}"
   ]
  },
  {
   "cell_type": "code",
   "execution_count": 13,
   "id": "confidential-defense",
   "metadata": {},
   "outputs": [],
   "source": [
    "testEq([9],shape(full(9,null,3.3)));\n",
    "testEq(9*3.3,Math.round(full(9,null,3.3).reduce((a,b)=>a+b)*10)/10);\n",
    "testEq([9,2],shape(full(9,2))); // Don't do this unless you want a matrix of undefined (o:\n",
    "testEq(3.4,full(3,2,3.4)[1][1]);"
   ]
  },
  {
   "cell_type": "code",
   "execution_count": 14,
   "id": "greek-productivity",
   "metadata": {},
   "outputs": [],
   "source": [
    "/**\n",
    "Return a 1d or 2d array of zeros.\n",
    "*/\n",
    "function zeros(d0,d1) {\n",
    "    return full(d0,d1,0);\n",
    "}"
   ]
  },
  {
   "cell_type": "code",
   "execution_count": 15,
   "id": "informational-guest",
   "metadata": {},
   "outputs": [],
   "source": [
    "testEq([9],shape(zeros(9)));\n",
    "testEq(0,zeros(9).reduce((a,b)=>a-b));\n",
    "testEq([9,2],shape(zeros(9,2)));\n",
    "testEq(0,zeros(3,2)[1][1]);"
   ]
  },
  {
   "cell_type": "code",
   "execution_count": 16,
   "id": "premier-japanese",
   "metadata": {},
   "outputs": [],
   "source": [
    "/**\n",
    "Return a square array with ones on the main diagonal.\n",
    "*/\n",
    "function identity(n) {\n",
    "    const result=zeros(n,n);\n",
    "    for (let i=0; i<n; i++) {\n",
    "        result[i][i]=1;\n",
    "    }\n",
    "    return result;\n",
    "}"
   ]
  },
  {
   "cell_type": "code",
   "execution_count": 17,
   "id": "double-melissa",
   "metadata": {},
   "outputs": [],
   "source": [
    "testEq([[1,0,0], [0,1,0], [0,0,1]], identity(3));"
   ]
  },
  {
   "cell_type": "code",
   "execution_count": 18,
   "id": "overhead-unemployment",
   "metadata": {},
   "outputs": [],
   "source": [
    "/**\n",
    "Return the mean and population standard deviation of a 1d array.\n",
    "\n",
    "https://stackoverflow.com/questions/7343890/standard-deviation-javascript\n",
    "*/\n",
    "function meanAndStandardDeviation(a1d) {\n",
    "    const n=a1d.length;\n",
    "    const mean=a1d.reduce((a,b)=>a+b) / n;\n",
    "    return [mean,Math.sqrt(a1d.map(a => Math.pow(a - mean, 2)).reduce((a, b) => a + b) / n)];\n",
    "}"
   ]
  },
  {
   "cell_type": "code",
   "execution_count": 19,
   "id": "documentary-anniversary",
   "metadata": {},
   "outputs": [],
   "source": [
    "testEq([2, 1.414], round(meanAndStandardDeviation([0,1,2,3,4]), 3));"
   ]
  },
  {
   "cell_type": "code",
   "execution_count": 20,
   "id": "signal-response",
   "metadata": {},
   "outputs": [],
   "source": [
    "/**\n",
    "Returns the transpose of a 2d array.\n",
    "*/\n",
    "function transpose(matrix) {\n",
    "    const result = [];\n",
    "    matrix.forEach(function(row,rowIndex) {\n",
    "        row.forEach(function(elem,columnIndex) {\n",
    "            if (rowIndex==0) {\n",
    "                result[columnIndex]=[elem];\n",
    "            } else {\n",
    "                result[columnIndex].push(elem);\n",
    "            }\n",
    "        });\n",
    "    });\n",
    "    return result;\n",
    "}"
   ]
  },
  {
   "cell_type": "code",
   "execution_count": 21,
   "id": "forbidden-composition",
   "metadata": {},
   "outputs": [],
   "source": [
    "const left  = [\n",
    "    [1,2,1],\n",
    "    [0,1,0],\n",
    "    [2,3,4]\n",
    "];\n",
    "const right = [\n",
    "    [2,5],\n",
    "    [6,7],\n",
    "    [1,8]\n",
    "];\n",
    "testEq([[2,6,1],[5,7,8]],transpose(right));"
   ]
  },
  {
   "cell_type": "code",
   "execution_count": 22,
   "id": "unlimited-fight",
   "metadata": {},
   "outputs": [],
   "source": [
    "/**\n",
    "Returns a single value from a standard normal distribution.\n",
    "*/\n",
    "function randn_bm() {\n",
    "    // Box-Muller transform - Max Collard - stack overflow\n",
    "    var u=0, v=0;\n",
    "    while(u==0) u=Math.random();\n",
    "    while(v==0) v=Math.random();\n",
    "    return Math.sqrt(-2.0*Math.log(u)) * Math.cos(2.0*Math.PI*v);\n",
    "}"
   ]
  },
  {
   "cell_type": "markdown",
   "id": "adolescent-license",
   "metadata": {},
   "source": [
    "The following test checks that the mean of 100 `randn_bm` values is zero (after rounding to the nearest integer)"
   ]
  },
  {
   "cell_type": "code",
   "execution_count": 23,
   "id": "descending-manual",
   "metadata": {},
   "outputs": [],
   "source": [
    "testEq(0, Math.round(Array(100).fill(0).map(_ => randn_bm()).reduce((a,b) => a+b)/100))"
   ]
  },
  {
   "cell_type": "code",
   "execution_count": 24,
   "id": "perfect-background",
   "metadata": {},
   "outputs": [],
   "source": [
    "/**\n",
    "Returns a 2d array filled with `randn_bm` values.\n",
    "*/\n",
    "function randn(d0,d1) {\n",
    "    const result = [];\n",
    "    for (let rowIndex = 0; rowIndex < d0; rowIndex++) {\n",
    "        const row=[];\n",
    "        result.push(row);\n",
    "        for (let colIndex = 0; colIndex < d1; colIndex++) {\n",
    "            row.push(randn_bm());\n",
    "        }\n",
    "    }\n",
    "    return result;\n",
    "}"
   ]
  },
  {
   "cell_type": "code",
   "execution_count": 25,
   "id": "adolescent-situation",
   "metadata": {},
   "outputs": [
    {
     "name": "stdout",
     "output_type": "stream",
     "text": [
      "[ 'Mean', 0.14603624249007172 ]\n"
     ]
    }
   ],
   "source": [
    "let result=randn(20,5);\n",
    "testEq([20,5],shape(result));\n",
    "['Mean',result.map(row=>row.reduce((a,b)=>a+b)).reduce((a,b)=>a+b)/(20*5)];"
   ]
  },
  {
   "cell_type": "code",
   "execution_count": 91,
   "id": "seeing-impossible",
   "metadata": {},
   "outputs": [],
   "source": [
    "/**\n",
    "Returns a 2d array filled with pseudo-random number in the range [low, high) with ~ uniform distribution.\n",
    "*/\n",
    "function uniform(d0,d1,low,high) {\n",
    "    low = low || 0;\n",
    "    high = high || 1;\n",
    "    const result = [];\n",
    "    for (let rowIndex = 0; rowIndex < d0; rowIndex++) {\n",
    "        const row=[];\n",
    "        result.push(row);\n",
    "        for (let colIndex = 0; colIndex < d1; colIndex++) {\n",
    "            row.push(Math.random()*(high-low)+low);\n",
    "        }\n",
    "    }\n",
    "    return result;\n",
    "}"
   ]
  },
  {
   "cell_type": "code",
   "execution_count": 26,
   "id": "healthy-dream",
   "metadata": {},
   "outputs": [],
   "source": [
    "/**\n",
    "Return matrix of `newShape` if\n",
    "- a is a scalar value,\n",
    "- a is a 1d array with a length that matches newShape[1] or\n",
    "- a is the new shape already.\n",
    "\n",
    "`newShape` must be 2d.\n",
    "*/\n",
    "function reshape(a,newShape) {\n",
    "    const oldShape=shape(a);\n",
    "    if (oldShape.length==0) {\n",
    "        return full(newShape[0],newShape[1],a);\n",
    "    } else if (oldShape.length==1 && oldShape[0]==newShape[1]) {\n",
    "        return new Array(newShape[0]).fill(a);\n",
    "    }\n",
    "    newShape.forEach((s,i) => {\n",
    "        if (s!=oldShape[i]) throw new Error(`Can't reshape from [${oldShape}] to [${newShape}]`);\n",
    "    });\n",
    "    return a;\n",
    "}"
   ]
  },
  {
   "cell_type": "code",
   "execution_count": 32,
   "id": "encouraging-policy",
   "metadata": {},
   "outputs": [],
   "source": [
    "testEq([2,2],shape(reshape(1.23,[2,2])));\n",
    "testEq([1,3],shape(reshape([1,2,3],[1,3])));\n",
    "testEq([3],shape(reshape([1,2,3],[3]))); // 1d new shape works some if shape(a)==newShape\n",
    "testEq([5,3],shape(reshape([1,2,3],[5,3])));\n",
    "try {\n",
    "    reshape([1,2,3],[5,2]);\n",
    "    throw new Error('The reshape above should have failed');\n",
    "} catch (e) {\n",
    "    testEq(\"Can't reshape from [3] to [5,2]\", e.message);\n",
    "}"
   ]
  },
  {
   "cell_type": "code",
   "execution_count": 33,
   "id": "considered-blackberry",
   "metadata": {},
   "outputs": [],
   "source": [
    "/**\n",
    "Elementwise sum of a and b where a and b are 1d.\n",
    "*/\n",
    "function matrixSum1d(a,b) {\n",
    "    return a.map((e,i) => e+b[i]);\n",
    "}\n",
    "\n",
    "/**\n",
    "Elementwise sum of a2d and b, where a2d is 2d and b can be reshaped to match a.\n",
    "*/\n",
    "function matrixSum2d(a2d,b) {\n",
    "    const b2d=reshape(b,shape(a2d));\n",
    "    return a2d.map((row,i) => matrixSum1d(row, b2d[i]));\n",
    "}"
   ]
  },
  {
   "cell_type": "code",
   "execution_count": 34,
   "id": "honey-conditions",
   "metadata": {},
   "outputs": [],
   "source": [
    "testEq([[1,3],[10,30]], matrixSum2d([[0,1],[9,28]],[1,2]));\n",
    "testEq([[1,3],[12,32]], matrixSum2d([[0,1],[9,28]],[[1,2],[3,4]]));"
   ]
  },
  {
   "cell_type": "code",
   "execution_count": 35,
   "id": "medieval-suspension",
   "metadata": {},
   "outputs": [],
   "source": [
    "/**\n",
    "Element wise subtraction of `b` from `a`, where a and b are 1d.\n",
    "*/\n",
    "function matrixSubtract1d(a,b) {\n",
    "    return a.map((e,i) => e-b[i]);\n",
    "}\n",
    "\n",
    "/**\n",
    "Elementwise subtraction of b from a2d, where a2d is 2d and b can be reshaped to match a.\n",
    "*/\n",
    "function matrixSubtract2d(a2d,b) {\n",
    "    const b2d=reshape(b,shape(a2d));\n",
    "    return a2d.map((row,i) => matrixSubtract1d(row,b2d[i]));\n",
    "}"
   ]
  },
  {
   "cell_type": "code",
   "execution_count": 36,
   "id": "velvet-induction",
   "metadata": {},
   "outputs": [],
   "source": [
    "testEq([0,-1,-2,-3,-4],matrixSubtract1d([1,1,1,1,1],[1,2,3,4,5]));\n",
    "testEq([[0,-1,-2,-3,-4],[0,1,2,3,4]],matrixSubtract2d([[1,1,1,1,1],[1,3,5,7,9]],[1,2,3,4,5]));\n",
    "testEq([[0,-1,-2,-3,-4],[0,1,2,3,4]],matrixSubtract2d([[1,1,1,1,1],[1,3,5,7,9]],[[1,2,3,4,5],[1,2,3,4,5]]));"
   ]
  },
  {
   "cell_type": "code",
   "execution_count": 37,
   "id": "musical-rendering",
   "metadata": {},
   "outputs": [],
   "source": [
    "/**\n",
    "Element wise multiplication of `b` and `a`, where a is 1d and b can be reshaped to match a.\n",
    "*/\n",
    "function matrixMultiply1d(a1d,b) {\n",
    "    const b1d=reshape(b,shape(a1d));\n",
    "    return a1d.map((e,i) => e*b1d[i]);\n",
    "}\n",
    "\n",
    "/**\n",
    "Elementwise multiplication of a2d with b, where a2d is 2d and b can be reshaped to match a.\n",
    "*/\n",
    "function matrixMultiply2d(a2d,b) {\n",
    "    const b2d=reshape(b,shape(a2d));\n",
    "    return a2d.map((row,i) => matrixMultiply1d(row,b2d[i]));\n",
    "}"
   ]
  },
  {
   "cell_type": "code",
   "execution_count": 38,
   "id": "declared-obligation",
   "metadata": {},
   "outputs": [],
   "source": [
    "testEq([10,20,30],matrixMultiply1d([1,2,3],10));\n",
    "testEq([10,4,3],matrixMultiply1d([1,2,3],[10,2,1]));\n",
    "testEq([[10,20,30],[-10,-20,-30]],matrixMultiply2d([[1,2,3],[-1,-2,-3]],10));\n",
    "testEq([[10,4,3],[-10,-4,-3]],matrixMultiply2d([[1,2,3],[-1,-2,-3]],[10,2,1]));\n",
    "testEq([[10,4,3],[0,0,0]],matrixMultiply2d([[1,2,3],[-1,-2,-3]],[[10,2,1],[0,0,0]]));"
   ]
  },
  {
   "cell_type": "code",
   "execution_count": 39,
   "id": "adopted-column",
   "metadata": {},
   "outputs": [],
   "source": [
    "/**\n",
    "Returns the dot product of two 2d arrays.\n",
    "See: http://matrixmultiplication.xyz/\n",
    "*/\n",
    "function dotProduct(a,b) {\n",
    "    const bTransposed=transpose(b);\n",
    "    return a.map((aRow,aRowIndex) => {\n",
    "        return bTransposed.map((bRow) => {\n",
    "            return matrixMultiply1d(aRow,bRow).reduce((a,b) => a+b);\n",
    "        });         \n",
    "    });\n",
    "}"
   ]
  },
  {
   "cell_type": "code",
   "execution_count": 40,
   "id": "minute-harvest",
   "metadata": {},
   "outputs": [],
   "source": [
    "let actual=dotProduct(left,right)\n",
    "testEq([shape(left)[0],shape(right)[1]], shape(actual));\n",
    "testEq([[15,27],[6,7],[26,63]], actual);\n",
    "testEq([[2,5],[0,0],[4,10]], dotProduct([[1],[0],[2]],[[2,5]]));"
   ]
  },
  {
   "cell_type": "code",
   "execution_count": 41,
   "id": "intelligent-fundamentals",
   "metadata": {},
   "outputs": [],
   "source": [
    "/**\n",
    "Return the index of the highest value in `a`.\n",
    "*/\n",
    "function argmax(a) {\n",
    "    return a.indexOf(Math.max(...a));\n",
    "}"
   ]
  },
  {
   "cell_type": "code",
   "execution_count": 42,
   "id": "apparent-benefit",
   "metadata": {},
   "outputs": [],
   "source": [
    "testEq(2, argmax([0,0,1]));\n",
    "testEq(2, argmax([0,0,.5]));\n",
    "testEq(1, argmax([0,0.51,.5]));"
   ]
  },
  {
   "cell_type": "code",
   "execution_count": 43,
   "id": "authorized-stomach",
   "metadata": {},
   "outputs": [],
   "source": [
    "/**\n",
    "Normalize a 2d array by subtracting its mean and dividing by its standard deviation for all elements.\n",
    "*/\n",
    "function normalize(a2d) {\n",
    "    const [mean,std] = meanAndStandardDeviation(flatten(a2d));\n",
    "    return matrixMultiply2d(matrixSubtract2d(a2d,mean), 1/std);\n",
    "}"
   ]
  },
  {
   "cell_type": "code",
   "execution_count": 44,
   "id": "amber-xerox",
   "metadata": {},
   "outputs": [],
   "source": [
    "testEq([[1.41, -0.71, -0.71],\n",
    "        [-0.71, 1.41, -0.71],\n",
    "        [-0.71, -0.71, 1.41]], round(normalize(identity(3)), 2));\n",
    "testEq([0,1], round(meanAndStandardDeviation(flatten(normalize(identity(3)))), 5));"
   ]
  },
  {
   "cell_type": "code",
   "execution_count": null,
   "id": "modular-bacteria",
   "metadata": {},
   "outputs": [],
   "source": [
    "export {\n",
    "    round,flatten,exp,shape,transpose,dotProduct,randn,uniform,full,zeros,mean,reshape,argmax,\n",
    "    normalize,identity,meanAndStandardDeviation,\n",
    "    matrixSum1d,matrixSum2d,matrixSubtract1d,matrixSubtract2d,matrixMultiply1d,matrixMultiply2d}"
   ]
  }
 ],
 "metadata": {
  "kernelspec": {
   "display_name": "JavaScript",
   "language": "javascript",
   "name": "jslab"
  },
  "language_info": {
   "file_extension": ".js",
   "mimetype": "text/javascript",
   "name": "javascript",
   "version": ""
  }
 },
 "nbformat": 4,
 "nbformat_minor": 5
}
