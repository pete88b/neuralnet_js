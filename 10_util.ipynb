{
 "cells": [
  {
   "cell_type": "code",
   "execution_count": 1,
   "id": "southern-attempt",
   "metadata": {},
   "outputs": [],
   "source": [
    "//default_exp util"
   ]
  },
  {
   "cell_type": "markdown",
   "id": "stuffed-shuttle",
   "metadata": {},
   "source": [
    "# Util\n",
    "\n",
    "> Low level functions needed to build a neural net."
   ]
  },
  {
   "cell_type": "code",
   "execution_count": 1,
   "id": "thick-option",
   "metadata": {},
   "outputs": [],
   "source": [
    "import {testEq} from './src/testutil.module.js'"
   ]
  },
  {
   "cell_type": "code",
   "execution_count": 2,
   "id": "physical-rotation",
   "metadata": {},
   "outputs": [],
   "source": [
    "/**\n",
    "Returns the shape of an \"n\" dimentional array.\n",
    "*/\n",
    "function shape(m) {\n",
    "    const result=[];\n",
    "    while (Array.isArray(m)) {\n",
    "        result.push(m.length);\n",
    "        m=m[0];\n",
    "    }\n",
    "    return result;\n",
    "}"
   ]
  },
  {
   "cell_type": "code",
   "execution_count": 3,
   "id": "sufficient-ethernet",
   "metadata": {},
   "outputs": [],
   "source": [
    "testEq([0], shape([]));\n",
    "testEq([1,0], shape([[]]));\n",
    "testEq([1,1,3,2], shape([[[[0,1],[3,3],[4,4]]]]));"
   ]
  },
  {
   "cell_type": "code",
   "execution_count": 4,
   "id": "connected-chapel",
   "metadata": {},
   "outputs": [],
   "source": [
    "/**\n",
    "Returns the mean of all elements in a 2d array.\n",
    "*/\n",
    "function mean(matrix) {\n",
    "    const elementCount=shape(matrix).reduce((a,b)=>a*b);\n",
    "    const sum=matrix.map(row=>row.reduce((a,b)=>a+b)).reduce((a,b)=>a+b);\n",
    "    return sum/elementCount;\n",
    "}"
   ]
  },
  {
   "cell_type": "code",
   "execution_count": 5,
   "id": "superb-tunisia",
   "metadata": {},
   "outputs": [],
   "source": [
    "testEq(13/6, mean([[0,1],[2,3],[3,4]]));"
   ]
  },
  {
   "cell_type": "code",
   "execution_count": 6,
   "id": "signal-response",
   "metadata": {},
   "outputs": [],
   "source": [
    "/**\n",
    "Returns the transpose of a 2d array.\n",
    "*/\n",
    "function transpose(matrix) {\n",
    "    const result = [];\n",
    "    matrix.forEach(function(row,rowIndex) {\n",
    "        row.forEach(function(elem,columnIndex) {\n",
    "            if (rowIndex==0) {\n",
    "                result[columnIndex]=[elem];\n",
    "            } else {\n",
    "                result[columnIndex].push(elem);\n",
    "            }\n",
    "        });\n",
    "    });\n",
    "    return result;\n",
    "}"
   ]
  },
  {
   "cell_type": "code",
   "execution_count": 7,
   "id": "forbidden-composition",
   "metadata": {},
   "outputs": [],
   "source": [
    "const left  = [\n",
    "    [1,2,1],\n",
    "    [0,1,0],\n",
    "    [2,3,4]\n",
    "];\n",
    "const right = [\n",
    "    [2,5],\n",
    "    [6,7],\n",
    "    [1,8]\n",
    "];\n",
    "testEq([[2,6,1],[5,7,8]],transpose(right));"
   ]
  },
  {
   "cell_type": "code",
   "execution_count": 8,
   "id": "local-chain",
   "metadata": {},
   "outputs": [],
   "source": [
    "/**\n",
    "Returns the dot product of two 2d arrays.\n",
    "*/\n",
    "function dotProduct(a,b) {\n",
    "    const bTransposed=transpose(b);\n",
    "    const result=[];\n",
    "    a.forEach(function(aRow,aRowIndex) {\n",
    "        result[aRowIndex]=[];\n",
    "        bTransposed.forEach(function(bRow) {\n",
    "            const mults=[];\n",
    "            aRow.forEach(function(aElem,aColumnIndex) {\n",
    "                const bElem=bRow[aColumnIndex];\n",
    "                mults.push(aElem*bElem);\n",
    "            });\n",
    "            result[aRowIndex].push(mults.reduce((a, b) => a + b, 0));\n",
    "        });\n",
    "    });\n",
    "    return result;\n",
    "}"
   ]
  },
  {
   "cell_type": "code",
   "execution_count": 9,
   "id": "coupled-third",
   "metadata": {},
   "outputs": [],
   "source": [
    "let actual=dotProduct(left,right)\n",
    "testEq([shape(left)[0],shape(right)[1]], shape(actual));\n",
    "testEq([[15,27],[6,7],[26,63]], actual);\n",
    "testEq([[2,5],[0,0],[4,10]], dotProduct([[1],[0],[2]],[[2,5]]));"
   ]
  },
  {
   "cell_type": "code",
   "execution_count": 10,
   "id": "unlimited-fight",
   "metadata": {},
   "outputs": [],
   "source": [
    "/**\n",
    "Returns a single value from a standard normal distribution.\n",
    "*/\n",
    "function randn_bm() {\n",
    "    // Box-Muller transform - Max Collard - stack overflow\n",
    "    var u=0, v=0;\n",
    "    while(u==0) u=Math.random();\n",
    "    while(v==0) v=Math.random();\n",
    "    return Math.sqrt(-2.0*Math.log(u)) * Math.cos(2.0*Math.PI*v);\n",
    "}"
   ]
  },
  {
   "cell_type": "markdown",
   "id": "adolescent-license",
   "metadata": {},
   "source": [
    "The following test checks that the mean of 100 `randn_bm` values is zero (after rounding to the nearest integer)"
   ]
  },
  {
   "cell_type": "code",
   "execution_count": 11,
   "id": "descending-manual",
   "metadata": {},
   "outputs": [],
   "source": [
    "testEq(0, Math.round(Array(100).fill(0).map(_ => randn_bm()).reduce((a,b) => a+b)/100))"
   ]
  },
  {
   "cell_type": "code",
   "execution_count": 12,
   "id": "perfect-background",
   "metadata": {},
   "outputs": [],
   "source": [
    "/**\n",
    "Returns a 2d array filled with `randn_bm` values.\n",
    "*/\n",
    "function randn(d0,d1) {\n",
    "    const result = [];\n",
    "    for (let rowIndex = 0; rowIndex < d0; rowIndex++) {\n",
    "        const row=[];\n",
    "        result.push(row);\n",
    "        for (let colIndex = 0; colIndex < d1; colIndex++) {\n",
    "            row.push(randn_bm());\n",
    "        }\n",
    "    }\n",
    "    return result;\n",
    "}"
   ]
  },
  {
   "cell_type": "code",
   "execution_count": 13,
   "id": "adolescent-situation",
   "metadata": {},
   "outputs": [
    {
     "name": "stdout",
     "output_type": "stream",
     "text": [
      "[ 'Mean', 0.10413687727683112 ]\n"
     ]
    }
   ],
   "source": [
    "let result=randn(20,5);\n",
    "testEq([20,5],shape(result));\n",
    "['Mean',result.map(row=>row.reduce((a,b)=>a+b)).reduce((a,b)=>a+b)/(20*5)];"
   ]
  },
  {
   "cell_type": "code",
   "execution_count": 14,
   "id": "threaded-warren",
   "metadata": {},
   "outputs": [],
   "source": [
    "/**\n",
    "Return a 1d or 2d array of `fillValue`.\n",
    "*/\n",
    "function full(d0,d1,fillValue) {\n",
    "    if (d1 == null) {\n",
    "        return new Array(d0).fill(fillValue);\n",
    "    }\n",
    "    const result=[];\n",
    "    for (let i=0; i<d0; i++) {\n",
    "        result.push(new Array(d1).fill(fillValue));\n",
    "    }\n",
    "    return result;\n",
    "}"
   ]
  },
  {
   "cell_type": "code",
   "execution_count": 15,
   "id": "later-special",
   "metadata": {},
   "outputs": [],
   "source": [
    "testEq([9],shape(full(9,null,3.3)));\n",
    "testEq(9*3.3,Math.round(full(9,null,3.3).reduce((a,b)=>a+b)*10)/10);\n",
    "testEq([9,2],shape(full(9,2))); // Don't do this unless you want a matrix of undefined (o:\n",
    "testEq(3.4,full(3,2,3.4)[1][1]);"
   ]
  },
  {
   "cell_type": "code",
   "execution_count": 16,
   "id": "fifty-carol",
   "metadata": {},
   "outputs": [],
   "source": [
    "/**\n",
    "Return a 1d or 2d array of zeros.\n",
    "*/\n",
    "function zeros(d0,d1) {\n",
    "    return full(d0,d1,0);\n",
    "}"
   ]
  },
  {
   "cell_type": "code",
   "execution_count": 17,
   "id": "desperate-robertson",
   "metadata": {},
   "outputs": [],
   "source": [
    "testEq([9],shape(zeros(9)));\n",
    "testEq(0,zeros(9).reduce((a,b)=>a-b));\n",
    "testEq([9,2],shape(zeros(9,2)));\n",
    "testEq(0,zeros(3,2)[1][1]);"
   ]
  },
  {
   "cell_type": "code",
   "execution_count": 18,
   "id": "healthy-dream",
   "metadata": {},
   "outputs": [],
   "source": [
    "/**\n",
    "Return matrix of `newShape` if\n",
    "- a is a scalar value,\n",
    "- a is a 1d array with a length that matches newShape[1] or\n",
    "- a is the new shape already.\n",
    "\n",
    "`newShape` must be 2d.\n",
    "*/\n",
    "function reshape(a,newShape) {\n",
    "    const oldShape=shape(a);\n",
    "    if (oldShape.length==0) {\n",
    "        return full(newShape[0],newShape[1],a);\n",
    "    } else if (oldShape.length==1 && oldShape[0]==newShape[1]) {\n",
    "        return new Array(newShape[0]).fill(a);\n",
    "    }\n",
    "    newShape.forEach((s,i) => {\n",
    "        if (s!=oldShape[i]) throw `Can't reshape from [${oldShape}] to [${newShape}]`;\n",
    "    });\n",
    "    return a;\n",
    "}"
   ]
  },
  {
   "cell_type": "code",
   "execution_count": 19,
   "id": "encouraging-policy",
   "metadata": {},
   "outputs": [],
   "source": [
    "testEq([2,2],shape(reshape(1.23,[2,2])));\n",
    "testEq([1,3],shape(reshape([1,2,3],[1,3])));\n",
    "testEq([3],shape(reshape([1,2,3],[3]))); // 1d new shape works some if shape(a)==newShape\n",
    "testEq([5,3],shape(reshape([1,2,3],[5,3])));\n",
    "try {\n",
    "    reshape([1,2,3],[5,2]);\n",
    "    throw 'The reshape above should have failed';\n",
    "} catch (e) {\n",
    "    testEq(\"Can't reshape from [3] to [5,2]\",e);\n",
    "}"
   ]
  },
  {
   "cell_type": "code",
   "execution_count": 20,
   "id": "considered-blackberry",
   "metadata": {},
   "outputs": [],
   "source": [
    "/**\n",
    "Elementwise sum of a and b where a and b are 1d.\n",
    "*/\n",
    "function matrixSum1d(a,b) {\n",
    "    return a.map((e,i) => e+b[i]);\n",
    "}\n",
    "\n",
    "/**\n",
    "Elementwise sum of a2d and b, where a2d is 2d and b can be reshaped to match a.\n",
    "*/\n",
    "function matrixSum2d(a2d,b) {\n",
    "    const b2d=reshape(b,shape(a2d));\n",
    "    return a2d.map((row,i) => matrixSum1d(row, b2d[i]));\n",
    "}"
   ]
  },
  {
   "cell_type": "code",
   "execution_count": 21,
   "id": "honey-conditions",
   "metadata": {},
   "outputs": [],
   "source": [
    "testEq([[1,3],[10,30]], matrixSum2d([[0,1],[9,28]],[1,2]));\n",
    "testEq([[1,3],[12,32]], matrixSum2d([[0,1],[9,28]],[[1,2],[3,4]]));"
   ]
  },
  {
   "cell_type": "code",
   "execution_count": 22,
   "id": "medieval-suspension",
   "metadata": {},
   "outputs": [],
   "source": [
    "/**\n",
    "Element wise subtraction of `b` from `a`, where a and b are 1d.\n",
    "*/\n",
    "function matrixSubtract1d(a,b) {\n",
    "    return a.map((e,i) => e-b[i]);\n",
    "}\n",
    "\n",
    "/**\n",
    "Elementwise subtraction of b from a2d, where a2d is 2d and b can be reshaped to match a.\n",
    "*/\n",
    "function matrixSubtract2d(a2d,b) {\n",
    "    const b2d=reshape(b,shape(a2d));\n",
    "    return a2d.map((row,i) => matrixSubtract1d(row,b2d[i]));\n",
    "}"
   ]
  },
  {
   "cell_type": "code",
   "execution_count": 23,
   "id": "velvet-induction",
   "metadata": {},
   "outputs": [],
   "source": [
    "testEq([0,-1,-2,-3,-4],matrixSubtract1d([1,1,1,1,1],[1,2,3,4,5]));\n",
    "testEq([[0,-1,-2,-3,-4],[0,1,2,3,4]],matrixSubtract2d([[1,1,1,1,1],[1,3,5,7,9]],[1,2,3,4,5]));\n",
    "testEq([[0,-1,-2,-3,-4],[0,1,2,3,4]],matrixSubtract2d([[1,1,1,1,1],[1,3,5,7,9]],[[1,2,3,4,5],[1,2,3,4,5]]));"
   ]
  },
  {
   "cell_type": "code",
   "execution_count": 24,
   "id": "musical-rendering",
   "metadata": {},
   "outputs": [],
   "source": [
    "/**\n",
    "Element wise multiplication of `b` and `a`, where a is 1d and b can be reshaped to match a.\n",
    "*/\n",
    "function matrixMultiply1d(a1d,b) {\n",
    "    const b1d=reshape(b,shape(a1d));\n",
    "    return a1d.map((e,i) => e*b1d[i]);\n",
    "}\n",
    "\n",
    "/**\n",
    "Elementwise multiplication of a2d with b, where a2d is 2d and b can be reshaped to match a.\n",
    "*/\n",
    "function matrixMultiply2d(a2d,b) {\n",
    "    const b2d=reshape(b,shape(a2d));\n",
    "    return a2d.map((row,i) => matrixMultiply1d(row,b2d[i]));\n",
    "}"
   ]
  },
  {
   "cell_type": "code",
   "execution_count": 25,
   "id": "declared-obligation",
   "metadata": {},
   "outputs": [],
   "source": [
    "testEq([10,20,30],matrixMultiply1d([1,2,3],10));\n",
    "testEq([10,4,3],matrixMultiply1d([1,2,3],[10,2,1]));\n",
    "testEq([[10,20,30],[-10,-20,-30]],matrixMultiply2d([[1,2,3],[-1,-2,-3]],10));\n",
    "testEq([[10,4,3],[-10,-4,-3]],matrixMultiply2d([[1,2,3],[-1,-2,-3]],[10,2,1]));\n",
    "testEq([[10,4,3],[0,0,0]],matrixMultiply2d([[1,2,3],[-1,-2,-3]],[[10,2,1],[0,0,0]]));"
   ]
  },
  {
   "cell_type": "code",
   "execution_count": 26,
   "id": "intelligent-fundamentals",
   "metadata": {},
   "outputs": [],
   "source": [
    "/**\n",
    "Return the index of the highest value in `a`.\n",
    "*/\n",
    "function argmax(a) {\n",
    "    return a.indexOf(Math.max(...a));\n",
    "}"
   ]
  },
  {
   "cell_type": "code",
   "execution_count": 27,
   "id": "apparent-benefit",
   "metadata": {},
   "outputs": [],
   "source": [
    "testEq(2, argmax([0,0,1]));\n",
    "testEq(2, argmax([0,0,.5]));\n",
    "testEq(1, argmax([0,0.51,.5]));"
   ]
  },
  {
   "cell_type": "code",
   "execution_count": 28,
   "id": "modular-bacteria",
   "metadata": {},
   "outputs": [],
   "source": [
    "export {\n",
    "    shape,transpose,dotProduct,randn,zeros,mean,reshape,argmax,\n",
    "    matrixSum1d,matrixSum2d,matrixSubtract1d,matrixSubtract2d,matrixMultiply1d,matrixMultiply2d}"
   ]
  }
 ],
 "metadata": {
  "kernelspec": {
   "display_name": "JavaScript",
   "language": "javascript",
   "name": "jslab"
  },
  "language_info": {
   "file_extension": ".js",
   "mimetype": "text/javascript",
   "name": "javascript",
   "version": ""
  }
 },
 "nbformat": 4,
 "nbformat_minor": 5
}
