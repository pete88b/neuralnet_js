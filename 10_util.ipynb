{
 "cells": [
  {
   "cell_type": "code",
   "execution_count": 1,
   "id": "southern-attempt",
   "metadata": {},
   "outputs": [],
   "source": [
    "//default_exp util"
   ]
  },
  {
   "cell_type": "markdown",
   "id": "stuffed-shuttle",
   "metadata": {},
   "source": [
    "# Util\n",
    "\n",
    "> Low level functions needed to build a neural net."
   ]
  },
  {
   "cell_type": "code",
   "execution_count": 2,
   "id": "thick-option",
   "metadata": {},
   "outputs": [],
   "source": [
    "import {testEq} from './src/testutil.module.js'"
   ]
  },
  {
   "cell_type": "code",
   "execution_count": 3,
   "id": "physical-rotation",
   "metadata": {},
   "outputs": [],
   "source": [
    "/**\n",
    "Returns the shape of an \"n\" dimentional array.\n",
    "*/\n",
    "function shape(m) {\n",
    "    const result=[];\n",
    "    while (Array.isArray(m)) {\n",
    "        result.push(m.length);\n",
    "        m=m[0];\n",
    "    }\n",
    "    return result;\n",
    "}"
   ]
  },
  {
   "cell_type": "code",
   "execution_count": 4,
   "id": "sufficient-ethernet",
   "metadata": {},
   "outputs": [],
   "source": [
    "testEq([0], shape([]));\n",
    "testEq([1,0], shape([[]]));\n",
    "testEq([1,1,3,2], shape([[[[0,1],[3,3],[4,4]]]]));"
   ]
  },
  {
   "cell_type": "code",
   "execution_count": 5,
   "id": "signal-response",
   "metadata": {},
   "outputs": [],
   "source": [
    "/**\n",
    "Returns the transpose of a 2d array.\n",
    "*/\n",
    "function transpose(matrix) {\n",
    "    const result = [];\n",
    "    matrix.forEach(function(row,rowIndex) {\n",
    "        row.forEach(function(elem,columnIndex) {\n",
    "            if (rowIndex==0) {\n",
    "                result[columnIndex]=[elem];\n",
    "            } else {\n",
    "                result[columnIndex].push(elem);\n",
    "            }\n",
    "        });\n",
    "    });\n",
    "    return result;\n",
    "}"
   ]
  },
  {
   "cell_type": "code",
   "execution_count": 6,
   "id": "forbidden-composition",
   "metadata": {},
   "outputs": [],
   "source": [
    "const left  = [\n",
    "    [1,2,1],\n",
    "    [0,1,0],\n",
    "    [2,3,4]\n",
    "];\n",
    "const right = [\n",
    "    [2,5],\n",
    "    [6,7],\n",
    "    [1,8]\n",
    "];\n",
    "testEq([[2,6,1],[5,7,8]],transpose(right));"
   ]
  },
  {
   "cell_type": "code",
   "execution_count": 7,
   "id": "local-chain",
   "metadata": {},
   "outputs": [],
   "source": [
    "/**\n",
    "Returns the dot product of two 2d arrays.\n",
    "*/\n",
    "function dotProduct(a,b) {\n",
    "    const bTransposed=transpose(b);\n",
    "    const result=[];\n",
    "    a.forEach(function(aRow,aRowIndex) {\n",
    "        result[aRowIndex]=[];\n",
    "        bTransposed.forEach(function(bRow) {\n",
    "            const mults=[];\n",
    "            aRow.forEach(function(aElem,aColumnIndex) {\n",
    "                const bElem=bRow[aColumnIndex];\n",
    "                mults.push(aElem*bElem);\n",
    "            });\n",
    "            result[aRowIndex].push(mults.reduce((a, b) => a + b, 0));\n",
    "        });\n",
    "    });\n",
    "    return result;\n",
    "}"
   ]
  },
  {
   "cell_type": "code",
   "execution_count": 8,
   "id": "coupled-third",
   "metadata": {},
   "outputs": [],
   "source": [
    "let actual=dotProduct(left,right)\n",
    "testEq([shape(left)[0],shape(right)[1]], shape(actual));\n",
    "testEq([[15,27],[6,7],[26,63]], actual);\n",
    "testEq([[2,5],[0,0],[4,10]], dotProduct([[1],[0],[2]],[[2,5]]));"
   ]
  },
  {
   "cell_type": "code",
   "execution_count": 9,
   "id": "unlimited-fight",
   "metadata": {},
   "outputs": [],
   "source": [
    "/**\n",
    "Returns a single value from a standard normal distribution.\n",
    "*/\n",
    "function randn_bm() {\n",
    "    // Box-Muller transform - Max Collard - stack overflow\n",
    "    var u=0, v=0;\n",
    "    while(u==0) u=Math.random();\n",
    "    while(v==0) v=Math.random();\n",
    "    return Math.sqrt(-2.0*Math.log(u)) * Math.cos(2.0*Math.PI*v);\n",
    "}"
   ]
  },
  {
   "cell_type": "markdown",
   "id": "adolescent-license",
   "metadata": {},
   "source": [
    "The following test checks that the mean of 100 `randn_bm` values is zero (after rounding to the nearest integer)"
   ]
  },
  {
   "cell_type": "code",
   "execution_count": 10,
   "id": "descending-manual",
   "metadata": {},
   "outputs": [],
   "source": [
    "testEq(0, Math.round(Array(100).fill(0).map(_ => randn_bm()).reduce((a,b) => a+b)/100))"
   ]
  },
  {
   "cell_type": "code",
   "execution_count": 11,
   "id": "perfect-background",
   "metadata": {},
   "outputs": [],
   "source": [
    "/**\n",
    "Returns a 2d array filled with `randn_bm` values.\n",
    "*/\n",
    "function randn(d0,d1) {\n",
    "    const result = [];\n",
    "    for (let rowIndex = 0; rowIndex < d0; rowIndex++) {\n",
    "        const row=[];\n",
    "        result.push(row);\n",
    "        for (let colIndex = 0; colIndex < d1; colIndex++) {\n",
    "            row.push(randn_bm());\n",
    "        }\n",
    "    }\n",
    "    return result;\n",
    "}"
   ]
  },
  {
   "cell_type": "code",
   "execution_count": 12,
   "id": "adolescent-situation",
   "metadata": {},
   "outputs": [
    {
     "name": "stdout",
     "output_type": "stream",
     "text": [
      "[ 'Mean', -0.006723427276852156 ]\n"
     ]
    }
   ],
   "source": [
    "let result=randn(20,5);\n",
    "testEq([20,5],shape(result));\n",
    "['Mean',result.map(row=>row.reduce((a,b)=>a+b)).reduce((a,b)=>a+b)/(20*5)];"
   ]
  },
  {
   "cell_type": "code",
   "execution_count": 13,
   "id": "fifty-carol",
   "metadata": {},
   "outputs": [],
   "source": [
    "/**\n",
    "Return a 1d or 2d array of zeros.\n",
    "*/\n",
    "function zeros(d0, d1) {\n",
    "    if (d1 == null) {\n",
    "        return new Array(d0).fill(0);\n",
    "    }\n",
    "    const result=[];\n",
    "    for (let i=0; i<d0; i++) {\n",
    "        result.push(new Array(d1).fill(0));\n",
    "    }\n",
    "    return result;\n",
    "}"
   ]
  },
  {
   "cell_type": "code",
   "execution_count": 14,
   "id": "desperate-robertson",
   "metadata": {},
   "outputs": [],
   "source": [
    "testEq([9],shape(zeros(9)));\n",
    "testEq(0,zeros(9).reduce((a,b)=>a-b));\n",
    "testEq([9,2],shape(zeros(9,2)));"
   ]
  },
  {
   "cell_type": "code",
   "execution_count": 15,
   "id": "considered-blackberry",
   "metadata": {},
   "outputs": [],
   "source": [
    "/**\n",
    "Elementwise sum of a 2d and a 1d matrix.\n",
    "`shape(a2d)[1]` must equal `shape(b1d)`.\n",
    "*/\n",
    "function matrixSum(a2d,b1d) {\n",
    "    return a2d.map(row => row.map((e, i) => e+b1d[i]));\n",
    "}"
   ]
  },
  {
   "cell_type": "code",
   "execution_count": 16,
   "id": "honey-conditions",
   "metadata": {},
   "outputs": [],
   "source": [
    "testEq([[1,3],[10,30]], matrixSum([[0,1],[9,28]],[1,2]));"
   ]
  },
  {
   "cell_type": "code",
   "execution_count": 17,
   "id": "medieval-suspension",
   "metadata": {},
   "outputs": [],
   "source": [
    "/**\n",
    "Element wise subtraction of `b` from `a`, where a and b are 1d.\n",
    "*/\n",
    "function matrixSubtract1d(a,b) {\n",
    "    return a.map((e,i) => e-b[i]);\n",
    "}\n",
    "\n",
    "/**\n",
    "Element wise subtraction of `b` from `a`, where a and b are 2d.\n",
    "*/\n",
    "function matrixSubtract2d(a,b) {\n",
    "    return a.map((row,i) => matrixSubtract1d(row,b[i]));\n",
    "}"
   ]
  },
  {
   "cell_type": "code",
   "execution_count": 18,
   "id": "velvet-induction",
   "metadata": {},
   "outputs": [],
   "source": [
    "testEq([0,-1,-2,-3,-4],matrixSubtract1d([1,1,1,1,1],[1,2,3,4,5]));\n",
    "testEq([[0,-1,-2,-3,-4],[0,1,2,3,4]],matrixSubtract2d([[1,1,1,1,1],[1,3,5,7,9]],[[1,2,3,4,5],[1,2,3,4,5]]));"
   ]
  },
  {
   "cell_type": "code",
   "execution_count": 19,
   "id": "musical-rendering",
   "metadata": {},
   "outputs": [],
   "source": [
    "/**\n",
    "Return 1d array multiplied by a scalar value.\n",
    "*/\n",
    "function matrixMultiply1d(m,scalar) {\n",
    "    return m.map(e => e*scalar);\n",
    "}\n",
    "\n",
    "/**\n",
    "Return 2d array multiplied by a scalar value.\n",
    "*/\n",
    "function matrixMultiply2d(m,scalar) {\n",
    "    return m.map(row => matrixMultiply1d(row,scalar));\n",
    "}"
   ]
  },
  {
   "cell_type": "code",
   "execution_count": 20,
   "id": "declared-obligation",
   "metadata": {},
   "outputs": [],
   "source": [
    "testEq([10,20,30],matrixMultiply1d([1,2,3],10));\n",
    "testEq([[10,20,30],[-10,-20,-30]],matrixMultiply2d([[1,2,3],[-1,-2,-3]],10));"
   ]
  },
  {
   "cell_type": "code",
   "execution_count": 21,
   "id": "heard-indian",
   "metadata": {},
   "outputs": [],
   "source": [
    "/**\n",
    "Return the index of the highest value in `a`.\n",
    "*/\n",
    "function argmax(a) {\n",
    "    return a.indexOf(Math.max(...a));\n",
    "}"
   ]
  },
  {
   "cell_type": "code",
   "execution_count": 22,
   "id": "convenient-mills",
   "metadata": {},
   "outputs": [],
   "source": [
    "testEq(2, argmax([0,0,1]));\n",
    "testEq(2, argmax([0,0,.5]));\n",
    "testEq(1, argmax([0,0.51,.5]));"
   ]
  },
  {
   "cell_type": "code",
   "execution_count": 23,
   "id": "modular-bacteria",
   "metadata": {},
   "outputs": [],
   "source": [
    "export {\n",
    "    shape,transpose,dotProduct,randn,zeros,\n",
    "    matrixSum,matrixSubtract1d,matrixSubtract2d,matrixMultiply1d,matrixMultiply2d,argmax}"
   ]
  }
 ],
 "metadata": {
  "kernelspec": {
   "display_name": "JavaScript",
   "language": "javascript",
   "name": "jslab"
  },
  "language_info": {
   "file_extension": ".js",
   "mimetype": "text/javascript",
   "name": "javascript",
   "version": ""
  }
 },
 "nbformat": 4,
 "nbformat_minor": 5
}
