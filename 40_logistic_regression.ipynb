{
 "cells": [
  {
   "cell_type": "markdown",
   "id": "detailed-filing",
   "metadata": {},
   "source": [
    "# js implementation of Nick Beckers post\n",
    "\n",
    "- https://beckernick.github.io/logistic-regression-from-scratch/\n",
    "- https://github.com/beckernick/logistic_regression_from_scratch/blob/master/logistic_regression_scratch.ipynb"
   ]
  },
  {
   "cell_type": "code",
   "execution_count": 1,
   "id": "eligible-essex",
   "metadata": {},
   "outputs": [],
   "source": [
    "import {shape,transpose,full,zeros} from './src/util.module.js';\n",
    "import {matrixSum1d,matrixSubtract1d,matrixMultiply1d} from './src/util.module.js';"
   ]
  },
  {
   "cell_type": "code",
   "execution_count": 2,
   "id": "three-ranking",
   "metadata": {},
   "outputs": [],
   "source": [
    "// https://developer.mozilla.org/en-US/docs/Web/JavaScript/Reference/Global_Objects/eval\n",
    "function looseJsonParse(obj){\n",
    "    return Function(`\"use strict\";return (${obj})`)();\n",
    "}"
   ]
  },
  {
   "cell_type": "code",
   "execution_count": 3,
   "id": "dominant-invalid",
   "metadata": {},
   "outputs": [],
   "source": [
    "const num_observations=5000;\n",
    "const x1=looseJsonParse(require('fs').readFileSync('data/x1.txt').toString());\n",
    "const x2=looseJsonParse(require('fs').readFileSync('data/x2.txt').toString());\n",
    "const simulated_separableish_features = [...x1, ...x2];\n",
    "const simulated_labels = [...zeros(num_observations), ...full(num_observations,null,1)];"
   ]
  },
  {
   "cell_type": "markdown",
   "id": "boolean-baking",
   "metadata": {},
   "source": [
    "Note: we could use `dotProduct` from `util.module.js` is we use different shape weights but using the `dot` function below makes `logistic_regression` closer to the original."
   ]
  },
  {
   "cell_type": "code",
   "execution_count": 4,
   "id": "attempted-culture",
   "metadata": {},
   "outputs": [],
   "source": [
    "/**\n",
    "Returns the dot product of a[rows,cols] and b[cols] as a 1d array.\n",
    "*/\n",
    "function dot(a,b) {\n",
    "    const result=[];\n",
    "    a.forEach(function(aRow,aRowIndex) {\n",
    "        const mults=aRow.map((aElem,i)=>aElem*b[i]);\n",
    "        result.push(mults.reduce((a,b)=>a+b));\n",
    "    });\n",
    "    return result;\n",
    "}"
   ]
  },
  {
   "cell_type": "code",
   "execution_count": 5,
   "id": "alleged-threshold",
   "metadata": {},
   "outputs": [],
   "source": [
    "function sigmoid(scores) {\n",
    "    return scores.map(score => 1./(1.+Math.pow(Math.E, -score)));\n",
    "}"
   ]
  },
  {
   "cell_type": "code",
   "execution_count": 6,
   "id": "accepting-numbers",
   "metadata": {},
   "outputs": [],
   "source": [
    "function exp(a) {\n",
    "    return Math.pow(Math.E, a);\n",
    "}"
   ]
  },
  {
   "cell_type": "code",
   "execution_count": 7,
   "id": "express-encounter",
   "metadata": {},
   "outputs": [],
   "source": [
    "function log_likelihood(features, target, weights) {\n",
    "    let scores = dot(features, weights);\n",
    "    let temp = matrixSubtract1d(\n",
    "        matrixMultiply1d(target,scores),\n",
    "        scores.map(score=>Math.log(1+exp(score))))\n",
    "    return temp.reduce((a,b)=>a+b);\n",
    "}"
   ]
  },
  {
   "cell_type": "code",
   "execution_count": 8,
   "id": "hungarian-masters",
   "metadata": {},
   "outputs": [],
   "source": [
    "function logistic_regression(features, target, num_steps, learning_rate, add_intercept) {\n",
    "    if (add_intercept) {\n",
    "        features=features.map(feature=>[1, ...feature]);\n",
    "    }\n",
    "        \n",
    "    let weights = zeros(shape(features)[1]);\n",
    "    \n",
    "    for (let step=0; step<num_steps; step++) {\n",
    "        let scores = dot(features, weights);\n",
    "        let predictions = sigmoid(scores);\n",
    "        \n",
    "        // Update weights with log likelihood gradient\n",
    "        let output_error_signal = matrixSubtract1d(target, predictions);\n",
    "        let gradient = dot(transpose(features), output_error_signal);\n",
    "        weights=matrixSum1d(weights, matrixMultiply1d(gradient,learning_rate))\n",
    "\n",
    "        // Print log-likelihood every so often\n",
    "        if (step == 0 || step % 100 == 99) {\n",
    "            console.log(step,weights,'log likelihood',log_likelihood(features, target, weights));\n",
    "        }\n",
    "    }\n",
    "    return weights\n",
    "}"
   ]
  },
  {
   "cell_type": "markdown",
   "id": "representative-residence",
   "metadata": {},
   "source": [
    "Just a couple of changes from logistic_regression_scratch.ipynb ... I'm way too impatient to wait for 50000 epochs, so we'll train for less epochs at a higher learning rate - (to hopefully get nearly the same loss and weights).\n",
    "\n",
    "We're targeting;\n",
    "- log likelihood of `-140.725421355` and\n",
    "- weights of\n",
    "    - `[-13.99400797] [[-5.02712572  8.23286799]]` sklearn LogisticRegression\n",
    "    - `[-14.09225541  -5.05899648   8.28955762]` logistic_regression_scratch.ipynb"
   ]
  },
  {
   "cell_type": "code",
   "execution_count": 9,
   "id": "assumed-basketball",
   "metadata": {},
   "outputs": [
    {
     "name": "stdout",
     "output_type": "stream",
     "text": [
      "0 [ 0, 7.397425245475898, 30.01541021294583 ] log likelihood -72310.42400198299\n",
      "99 [ -17.831985432566956, -6.371830137093265, 10.448975784227374 ] log likelihood -146.3050815234575\n",
      "199 [ -17.3221528845754, -6.192497940453306, 10.154139006269082 ] log likelihood -145.04134421360502\n",
      "299 [ -16.860378856883734, -6.030677547538416, 9.887380225305396 ] log likelihood -144.00566607712898\n",
      "399 [ -16.44684301234898, -5.885733989226151, 9.648535958305681 ] log likelihood -143.174994124599\n",
      "499 [ -16.080572366316733, -5.757320425975913, 9.437029375056696 ] log likelihood -142.5232684873585\n",
      "599 [ -15.759724219959509, -5.644793325446942, 9.251783504337425 ] log likelihood -142.02308143429894\n",
      "699 [ -15.481679635529074, -5.547241465290732, 9.091275037986605 ] log likelihood -141.6473769821246\n",
      "799 [ -15.243198003314033, -5.463537807227904, 8.953623766565578 ] log likelihood -141.37092595498117\n",
      "899 [ -15.040610670967705, -5.39240547994631, 8.836704392207693 ] log likelihood -141.17138768237203\n",
      "999 [ -14.870026345109551, -5.332488492179439, 8.738264979648077 ] log likelihood -141.02988269532315\n",
      "1099 [ -14.727522932456523, -5.2824183072153925, 8.65603746427575 ] log likelihood -140.93111125887827\n",
      "1199 [ -14.609307420538082, -5.240869714800937, 8.587829649140172 ] log likelihood -140.8631266808818\n",
      "1299 [ -14.51183436222938, -5.206602525180018, 8.53159329349875 ] log likelihood -140.81689887667912\n",
      "1399 [ -14.431881777151109, -5.178488507382502, 8.485467643965082 ] log likelihood -140.78579151864864\n",
      "1499 [ -14.366589169371936, -5.155525095938844, 8.447801141514882 ] log likelihood -140.76504326181995\n",
      "1599 [ -14.313465473150135, -5.136838528039756, 8.417155820657069 ] log likelihood -140.75130671632968\n",
      "1699 [ -14.270375522880844, -5.121679388063128, 8.392299360644577 ] log likelihood -140.74226828815748\n",
      "1799 [ -14.235512899374537, -5.109413302956145, 8.372189314151967 ] log likelihood -140.73635138529994\n",
      "1899 [ -14.207365507164614, -5.099509022426487, 8.355953172774226 ] log likelihood -140.7324941308123\n",
      "1999 [ -14.184678556298435, -5.091525535071372, 8.342866958535225 ] log likelihood -140.7299881543683\n"
     ]
    }
   ],
   "source": [
    "const weights = logistic_regression(simulated_separableish_features, simulated_labels, 2000, 3e-3, true)"
   ]
  }
 ],
 "metadata": {
  "kernelspec": {
   "display_name": "JavaScript",
   "language": "javascript",
   "name": "jslab"
  },
  "language_info": {
   "file_extension": ".js",
   "mimetype": "text/javascript",
   "name": "javascript",
   "version": ""
  }
 },
 "nbformat": 4,
 "nbformat_minor": 5
}
