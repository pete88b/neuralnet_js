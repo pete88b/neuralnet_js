{
 "cells": [
  {
   "cell_type": "code",
   "execution_count": 1,
   "id": "elegant-karaoke",
   "metadata": {},
   "outputs": [],
   "source": [
    "//default_exp data"
   ]
  },
  {
   "cell_type": "code",
   "execution_count": 20,
   "id": "flying-complexity",
   "metadata": {},
   "outputs": [],
   "source": [
    "import {shape,zeros} from './src/util';"
   ]
  },
  {
   "cell_type": "code",
   "execution_count": 8,
   "id": "worst-fleece",
   "metadata": {},
   "outputs": [],
   "source": [
    "/**\n",
    "*/\n",
    "function head(data,rows=10) {\n",
    "    rows=Math.min(rows,data.length);\n",
    "    for (let i=0; i<rows; i++) {\n",
    "        console.log(i, data[i]);\n",
    "    }\n",
    "}\n",
    "\n",
    "function tail(data,rows=10) {\n",
    "    rows=Math.min(rows,data.length);\n",
    "    for (let i=-rows; i<0; i++) {\n",
    "        console.log(i, data[data.length+i]);\n",
    "    }\n",
    "}"
   ]
  },
  {
   "cell_type": "code",
   "execution_count": 9,
   "id": "auburn-portuguese",
   "metadata": {},
   "outputs": [],
   "source": [
    "/**\n",
    "Read simple csv files.\n",
    "*/\n",
    "const fs = require('fs');\n",
    "\n",
    "class RowHandler {\n",
    "    constructor() {\n",
    "        this.result=[]\n",
    "    }\n",
    "    handleRow(row,i) {\n",
    "        this.result.push(row.split(','));\n",
    "    }\n",
    "}\n",
    "\n",
    "function readCsv(path, rowHandler, rowLimit) {\n",
    "    if (rowHandler == null) {\n",
    "        rowHandler = new RowHandler()\n",
    "    }\n",
    "    const fileData=fs.readFileSync(path).toString();\n",
    "    const rows=fileData.split('\\n');\n",
    "    if (rowLimit==null) {\n",
    "        rowLimit=rows.length;\n",
    "    }\n",
    "    for (let i=0; i<rowLimit; i++) {\n",
    "        const row=rows[i];\n",
    "        if (row !== '') {\n",
    "            rowHandler.handleRow(row);\n",
    "        }\n",
    "    }\n",
    "    return rowHandler;\n",
    "}"
   ]
  },
  {
   "cell_type": "markdown",
   "id": "cognitive-indie",
   "metadata": {},
   "source": [
    "We can use `IrisRowHandler` &darr; and `readCsv` &uarr; to prepare [iris.data](https://archive.ics.uci.edu/ml/datasets/iris) for learning."
   ]
  },
  {
   "cell_type": "code",
   "execution_count": 13,
   "id": "greatest-gambling",
   "metadata": {},
   "outputs": [],
   "source": [
    "/**\n",
    "Convert a row of the iris dataset from string values to numbers for input features and one hot encoded targets.\n",
    "*/\n",
    "const IRIS_CLASS_MAP = {\n",
    "    'Iris-setosa': [1,0,0],\n",
    "    'Iris-versicolor': [0,1,0],\n",
    "    'Iris-virginica': [0,0,1]\n",
    "};\n",
    "class IrisRowHandler {\n",
    "    constructor() {\n",
    "        this.result=[[],[]]\n",
    "    }\n",
    "    handleRow(row) {\n",
    "        row = row.split(',');\n",
    "        // convert datatypes and normalize input features\n",
    "        this.result[0].push([\n",
    "            (parseFloat(row[0])-5.843333333)/0.828066128,\n",
    "            (parseFloat(row[1])-3.054)/0.433594311,\n",
    "            (parseFloat(row[2])-3.758666667)/1.76442042,\n",
    "            (parseFloat(row[3])-1.198666667)/0.763160742\n",
    "        ]);\n",
    "        this.result[1].push(IRIS_CLASS_MAP[row[4]])\n",
    "    }\n",
    "}"
   ]
  },
  {
   "cell_type": "code",
   "execution_count": 14,
   "id": "assigned-retrieval",
   "metadata": {},
   "outputs": [
    {
     "name": "stdout",
     "output_type": "stream",
     "text": [
      "0 [ '5.1', '3.5', '1.4', '0.2', 'Iris-setosa' ]\n",
      "1 [ '4.9', '3.0', '1.4', '0.2', 'Iris-setosa' ]\n",
      "2 [ '4.7', '3.2', '1.3', '0.2', 'Iris-setosa' ]\n",
      "3 [ '4.6', '3.1', '1.5', '0.2', 'Iris-setosa' ]\n",
      "4 [ '5.0', '3.6', '1.4', '0.2', 'Iris-setosa' ]\n",
      "-5 [ '6.7', '3.0', '5.2', '2.3', 'Iris-virginica' ]\n",
      "-4 [ '6.3', '2.5', '5.0', '1.9', 'Iris-virginica' ]\n",
      "-3 [ '6.5', '3.0', '5.2', '2.0', 'Iris-virginica' ]\n",
      "-2 [ '6.2', '3.4', '5.4', '2.3', 'Iris-virginica' ]\n",
      "-1 [ '5.9', '3.0', '5.1', '1.8', 'Iris-virginica' ]\n"
     ]
    }
   ],
   "source": [
    "let data=readCsv('data/iris.data').result\n",
    "head(data,5)\n",
    "tail(data,5)"
   ]
  },
  {
   "cell_type": "code",
   "execution_count": 15,
   "id": "prerequisite-bristol",
   "metadata": {},
   "outputs": [
    {
     "name": "stdout",
     "output_type": "stream",
     "text": [
      "0 [\n",
      "  -0.8976738787702239,\n",
      "  1.0286112817564161,\n",
      "  -1.3367940204410014,\n",
      "  -1.3085928193617695\n",
      "]\n",
      "1 [\n",
      "  -1.1392004830319542,\n",
      "  -0.12454037940548492,\n",
      "  -1.3367940204410014,\n",
      "  -1.3085928193617695\n",
      "]\n",
      "2 [\n",
      "  -1.3807270872936854,\n",
      "  0.3367202850592759,\n",
      "  -1.3934698551040348,\n",
      "  -1.3085928193617695\n",
      "]\n",
      "0 [ 1, 0, 0 ]\n",
      "1 [ 1, 0, 0 ]\n",
      "2 [ 1, 0, 0 ]\n",
      "-3 [\n",
      "  -0.8976738787702239,\n",
      "  1.0286112817564161,\n",
      "  -1.3367940204410014,\n",
      "  -1.3085928193617695\n",
      "]\n",
      "-2 [\n",
      "  -1.1392004830319542,\n",
      "  -0.12454037940548492,\n",
      "  -1.3367940204410014,\n",
      "  -1.3085928193617695\n",
      "]\n",
      "-1 [\n",
      "  -1.3807270872936854,\n",
      "  0.3367202850592759,\n",
      "  -1.3934698551040348,\n",
      "  -1.3085928193617695\n",
      "]\n",
      "-3 [ 1, 0, 0 ]\n",
      "-2 [ 1, 0, 0 ]\n",
      "-1 [ 1, 0, 0 ]\n"
     ]
    }
   ],
   "source": [
    "let data=readCsv('data/iris.data', new IrisRowHandler(), 3).result\n",
    "head(data[0])\n",
    "head(data[1])\n",
    "tail(data[0])\n",
    "tail(data[1])"
   ]
  },
  {
   "cell_type": "code",
   "execution_count": 26,
   "id": "solar-raise",
   "metadata": {},
   "outputs": [
    {
     "name": "stdout",
     "output_type": "stream",
     "text": [
      "[ 3, 2 ]\n"
     ]
    }
   ],
   "source": [
    "data=zeros(10,2)\n",
    "shape(data.slice(1,4))"
   ]
  },
  {
   "cell_type": "markdown",
   "id": "editorial-canon",
   "metadata": {},
   "source": [
    "The following `shuffle` function is borrowed from https://bost.ocks.org/mike/shuffle/ - modified to shuffle multiple arrays in the same way."
   ]
  },
  {
   "cell_type": "code",
   "execution_count": 159,
   "id": "furnished-republican",
   "metadata": {},
   "outputs": [],
   "source": [
    "function shuffle(arrays) {\n",
    "    var m = arrays[0].length, t, i;\n",
    "    // While there remain elements to shuffle…\n",
    "    while (m) {\n",
    "        // Pick a remaining element…\n",
    "        i = Math.floor(Math.random() * m--);\n",
    "        // And swap it with the current element.\n",
    "        arrays.forEach(array => {\n",
    "            t = array[m];\n",
    "            array[m] = array[i];\n",
    "            array[i] = t;\n",
    "        });\n",
    "    }\n",
    "}"
   ]
  },
  {
   "cell_type": "code",
   "execution_count": 160,
   "id": "meaning-moses",
   "metadata": {},
   "outputs": [],
   "source": [
    "function testEq(expected,actual) {\n",
    "    if (Array.isArray(expected)) {\n",
    "        expected=JSON.stringify(expected);\n",
    "        actual=JSON.stringify(actual);\n",
    "    }\n",
    "    if (expected!==actual) {\n",
    "        throw Error(`Expected ${expected} but found ${actual}`);\n",
    "    }\n",
    "}"
   ]
  },
  {
   "cell_type": "code",
   "execution_count": 161,
   "id": "forbidden-burke",
   "metadata": {},
   "outputs": [],
   "source": [
    "let a=[],b=[];\n",
    "for(let i=0; i<1000; i++) {\n",
    "    a.push(i);\n",
    "    b.push(i*10);\n",
    "}\n",
    "shuffle2([a,b])\n",
    "b=b.map(x=>x/10)\n",
    "testEq(a,b)"
   ]
  },
  {
   "cell_type": "code",
   "execution_count": 5,
   "id": "vocational-frederick",
   "metadata": {},
   "outputs": [],
   "source": [
    "export {head,tail,readCsv,IRIS_CLASS_MAP,RowHandler,IrisRowHandler}"
   ]
  }
 ],
 "metadata": {
  "kernelspec": {
   "display_name": "JavaScript",
   "language": "javascript",
   "name": "jslab"
  },
  "language_info": {
   "file_extension": ".js",
   "mimetype": "text/javascript",
   "name": "javascript",
   "version": ""
  }
 },
 "nbformat": 4,
 "nbformat_minor": 5
}
