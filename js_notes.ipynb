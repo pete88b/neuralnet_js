{
 "cells": [
  {
   "cell_type": "markdown",
   "id": "environmental-speaker",
   "metadata": {},
   "source": [
    "# js notes\n",
    "\n",
    "> Explain code that might not be obvious, show alternative implementations etc"
   ]
  },
  {
   "cell_type": "markdown",
   "id": "turned-adult",
   "metadata": {},
   "source": [
    "# Deep clone an array"
   ]
  },
  {
   "cell_type": "code",
   "execution_count": 9,
   "id": "ultimate-import",
   "metadata": {},
   "outputs": [
    {
     "name": "stdout",
     "output_type": "stream",
     "text": [
      "after b = a\n",
      "a [ [ 0, 0 ], [ 0, 1 ] ]\n",
      "b [ [ 0, 0 ], [ 0, 1 ] ]\n",
      "after b = JSON.parse(JSON.stringify(a))\n",
      "a [ [ 0, 0 ], [ 0, 1 ] ]\n",
      "b [ [ 0, 0 ], [ 0, 2 ] ]\n"
     ]
    }
   ],
   "source": [
    "import {zeros} from './src/util.module.js';\n",
    "const a = zeros(2,2)\n",
    "let b = a;\n",
    "b[1][1] = 1;\n",
    "console.log('after b = a')\n",
    "console.log('a',a);\n",
    "console.log('b',b);\n",
    "b = JSON.parse(JSON.stringify(a));\n",
    "b[1][1] = 2;\n",
    "console.log('after b = JSON.parse(JSON.stringify(a))')\n",
    "console.log('a',a);\n",
    "console.log('b',b);"
   ]
  },
  {
   "cell_type": "markdown",
   "id": "thermal-cannon",
   "metadata": {},
   "source": [
    "# De-duplicating arrays\n",
    "\n",
    "If we have"
   ]
  },
  {
   "cell_type": "code",
   "execution_count": 6,
   "id": "drawn-haiti",
   "metadata": {},
   "outputs": [],
   "source": [
    "const arrayWithDuplicates = [1,2,2,3,3,3,4,4,4,4];"
   ]
  },
  {
   "cell_type": "markdown",
   "id": "agricultural-virginia",
   "metadata": {},
   "source": [
    "we can create an array containing unique items with an array `filter`"
   ]
  },
  {
   "cell_type": "code",
   "execution_count": 7,
   "id": "comparative-preview",
   "metadata": {},
   "outputs": [
    {
     "name": "stdout",
     "output_type": "stream",
     "text": [
      "[ 1, 2, 3, 4 ]\n"
     ]
    }
   ],
   "source": [
    "arrayWithDuplicates.filter((item, i, arr) => arr.indexOf(item) === i);"
   ]
  },
  {
   "cell_type": "markdown",
   "id": "amazing-privilege",
   "metadata": {},
   "source": [
    "but ES6 makes it easy to spread a `Set`"
   ]
  },
  {
   "cell_type": "code",
   "execution_count": 8,
   "id": "demanding-administrator",
   "metadata": {},
   "outputs": [
    {
     "name": "stdout",
     "output_type": "stream",
     "text": [
      "[ 1, 2, 3, 4 ]\n"
     ]
    }
   ],
   "source": [
    "[...new Set(arrayWithDuplicates)]"
   ]
  },
  {
   "cell_type": "code",
   "execution_count": null,
   "id": "labeled-indianapolis",
   "metadata": {},
   "outputs": [],
   "source": []
  }
 ],
 "metadata": {
  "kernelspec": {
   "display_name": "JavaScript",
   "language": "javascript",
   "name": "jslab"
  },
  "language_info": {
   "file_extension": ".js",
   "mimetype": "text/javascript",
   "name": "javascript",
   "version": ""
  }
 },
 "nbformat": 4,
 "nbformat_minor": 5
}
