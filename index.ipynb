{
 "cells": [
  {
   "cell_type": "markdown",
   "id": "regulated-proceeding",
   "metadata": {},
   "source": [
    "# Neural net js\n",
    "\n",
    "> The goal of this project is implement a neural net in javascript that is as easy to understand as possible."
   ]
  },
  {
   "cell_type": "markdown",
   "id": "undefined-mistress",
   "metadata": {},
   "source": [
    "This project will also look at using an [nbdev](https://github.com/fastai/nbdev/) style of library development using [tslab](https://github.com/yunabe/tslab) to provide a js kernel."
   ]
  },
  {
   "cell_type": "markdown",
   "id": "infrared-marks",
   "metadata": {},
   "source": [
    "# *WIP*\n",
    "\n",
    "Please note; this project is a work in progress"
   ]
  },
  {
   "cell_type": "markdown",
   "id": "ancient-objective",
   "metadata": {},
   "source": [
    "## Running\n",
    "\n",
    "This project uses the [tslab Dockerfile for running on mybinder.org](https://github.com/yunabe/tslab-examples/blob/master/Dockerfile_prebuilt).\n",
    "\n",
    "```\n",
    "git clone https://github.com/pete88b/neuralnet_js.git\n",
    "cd neuralnet_js\n",
    "docker build -t neuralnet_js .\n",
    "docker run -d -p 8888:8888 --mount type=bind,source=\"<absolute path to neuralnet_js on your machine>\",target=/home/node/tslab-examples neuralnet_js\n",
    "```\n",
    "Check the container logs for a section that looks a bit like;\n",
    "```\n",
    "To access the notebook, open this file in a browser:\n",
    "file:///home/node/.local/share/jupyter/runtime/nbserver-1-open.html\n",
    "Or copy and paste one of these URLs:\n",
    "http://4f1ee683b96c:8888/?token=b3dd4ed644617cfb795dd8eb899aafea4c2168d8dc897357\n",
    "or http://127.0.0.1:8888/?token=b3dd4ed644617cfb795dd8eb899aafea4c2168d8dc897357\n",
    "```\n",
    "Copy the `127.0.0.1` URL and paste it into your browser.\n",
    "\n",
    "If you'd like to work with the tslab-examples, just docker run without the --mount;\n",
    "```\n",
    "docker run -d -p 8888:8888 neuralnet_js\n",
    "```"
   ]
  },
  {
   "cell_type": "markdown",
   "id": "minimal-league",
   "metadata": {},
   "source": [
    "TODO: expose a port so we can `python3 -m http.server 8000` from the terminal and then view demo web pages with http://localhost:8000/demo/"
   ]
  },
  {
   "cell_type": "markdown",
   "id": "otherwise-company",
   "metadata": {},
   "source": [
    "From a jupyter terminal you can\n",
    "\n",
    "`$ python3 nbdev_js.py`\n",
    "```\n",
    "Converting 00_util.ipynb to src/util.js\n",
    "Converting 10_nn.ipynb to src/nn.js\n",
    "Converting index.ipynb to src/ex.js\n",
    "```"
   ]
  }
 ],
 "metadata": {
  "kernelspec": {
   "display_name": "JavaScript",
   "language": "javascript",
   "name": "jslab"
  },
  "language_info": {
   "file_extension": ".js",
   "mimetype": "text/javascript",
   "name": "javascript",
   "version": ""
  }
 },
 "nbformat": 4,
 "nbformat_minor": 5
}
