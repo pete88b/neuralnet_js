{
 "cells": [
  {
   "cell_type": "markdown",
   "id": "regulated-proceeding",
   "metadata": {},
   "source": [
    "# Neural net js\n",
    "\n",
    "> The goal of this project is implement a neural net in javascript that is as easy to understand as possible."
   ]
  },
  {
   "cell_type": "markdown",
   "id": "undefined-mistress",
   "metadata": {},
   "source": [
    "This project will also look at using an [nbdev](https://github.com/fastai/nbdev/) style of library development using [tslab](https://github.com/yunabe/tslab) to provide a js kernel."
   ]
  },
  {
   "cell_type": "markdown",
   "id": "critical-isolation",
   "metadata": {},
   "source": [
    "## Live demo\n",
    "\n",
    "This [gist via bl.ocks](https://bl.ocks.org/pete88b/2aa60d189006bba7c59039f1e9d55936) shows how a model, learning in browser, converges with a 3d scatter plot."
   ]
  },
  {
   "cell_type": "markdown",
   "id": "adjusted-burke",
   "metadata": {},
   "source": [
    "# Quick example\n",
    "\n",
    "Let's train a classifier using [iris.data](https://archive.ics.uci.edu/ml/datasets/iris)."
   ]
  },
  {
   "cell_type": "code",
   "execution_count": 1,
   "id": "muslim-electricity",
   "metadata": {},
   "outputs": [],
   "source": [
    "import {argmax} from './src/util.module.js';\n",
    "import {head,tail,parseCsv,IRIS_CLASS_MAP,IrisRowHandler} from './src/data.module.js';\n",
    "import {BinaryCrossEntropyLoss,CrossEntropyLoss,Linear,Sigmoid,ReLU,Learner} from './src/nn.module.js';"
   ]
  },
  {
   "cell_type": "code",
   "execution_count": 2,
   "id": "fifteen-camping",
   "metadata": {},
   "outputs": [
    {
     "name": "stdout",
     "output_type": "stream",
     "text": [
      "epoch -1 valid loss 1.4739151121882226 metrics [ 0.4 ]\n",
      "epoch 0 valid loss 0.5848744757989532 metrics [ 0.6666666666666666 ]\n",
      "epoch 1 valid loss 0.49159050206731364 metrics [ 0.7666666666666667 ]\n",
      "epoch 2 valid loss 0.4229015771154563 metrics [ 0.8666666666666667 ]\n",
      "epoch 3 valid loss 0.38638241771021936 metrics [ 0.9 ]\n",
      "epoch 4 valid loss 0.3604730039888145 metrics [ 0.9333333333333333 ]\n",
      "epoch 5 valid loss 0.3398951858760056 metrics [ 0.9333333333333333 ]\n",
      "epoch 6 valid loss 0.32765219645252874 metrics [ 0.9333333333333333 ]\n",
      "epoch 7 valid loss 0.31447320048095306 metrics [ 0.9333333333333333 ]\n",
      "epoch 8 valid loss 0.309237885506544 metrics [ 0.9333333333333333 ]\n",
      "epoch 9 valid loss 0.2975130858963832 metrics [ 0.9333333333333333 ]\n",
      "epoch 10 valid loss 0.29207270307432676 metrics [ 0.9333333333333333 ]\n",
      "epoch 11 valid loss 0.28569384036078393 metrics [ 0.9333333333333333 ]\n",
      "epoch 12 valid loss 0.2719198981495626 metrics [ 0.9333333333333333 ]\n",
      "epoch 13 valid loss 0.2714915252404436 metrics [ 0.9333333333333333 ]\n",
      "epoch 14 valid loss 0.2648930707928398 metrics [ 0.9333333333333333 ]\n",
      "epoch 15 valid loss 0.2575430138085798 metrics [ 0.9333333333333333 ]\n",
      "epoch 16 valid loss 0.26139239668554426 metrics [ 0.9333333333333333 ]\n",
      "epoch 17 valid loss 0.24974931679898213 metrics [ 0.9333333333333333 ]\n",
      "epoch 18 valid loss 0.24400324123985023 metrics [ 0.9333333333333333 ]\n",
      "epoch 19 valid loss 0.23800864767053406 metrics [ 0.9666666666666667 ]\n",
      "epoch 20 valid loss 0.23783490396866186 metrics [ 0.9666666666666667 ]\n",
      "epoch 21 valid loss 0.23414740306625575 metrics [ 0.9666666666666667 ]\n",
      "epoch 22 valid loss 0.23276390444542142 metrics [ 0.9666666666666667 ]\n",
      "epoch 23 valid loss 0.22798949285307182 metrics [ 0.9666666666666667 ]\n",
      "epoch 24 valid loss 0.22188885746884998 metrics [ 0.9666666666666667 ]\n"
     ]
    }
   ],
   "source": [
    "let stringData=require('fs').readFileSync('data/iris.data').toString();\n",
    "let data=parseCsv(stringData, new IrisRowHandler('classid')).result;\n",
    "let lossFn=new CrossEntropyLoss();\n",
    "let model=[new Linear(4,50), new ReLU(), new Linear(50,3)];\n",
    "let learn=new Learner(model, lossFn, data);\n",
    "learn.fit(25);"
   ]
  },
  {
   "cell_type": "markdown",
   "id": "starting-virginia",
   "metadata": {},
   "source": [
    "We can look at predictions our trained model makes on the validation data.\n",
    "\n",
    "For each row, `learn.predict` gives us `[preds, predicted label, actual label]`"
   ]
  },
  {
   "cell_type": "code",
   "execution_count": 3,
   "id": "dynamic-joseph",
   "metadata": {},
   "outputs": [
    {
     "name": "stdout",
     "output_type": "stream",
     "text": [
      "-3 [\n",
      "  [ 5.229994592729576, -0.818909550073246, -3.375091406219404 ],\n",
      "  '0: Iris-setosa',\n",
      "  '0: Iris-setosa'\n",
      "]\n",
      "-2 [\n",
      "  [ -0.6277809352701051, 1.8666505942828426, 0.6384743521119428 ],\n",
      "  '1: Iris-versicolor',\n",
      "  '1: Iris-versicolor'\n",
      "]\n",
      "-1 [\n",
      "  [ -1.9751569068291988, 5.704614417138167, 2.861458954249989 ],\n",
      "  '1: Iris-versicolor',\n",
      "  '1: Iris-versicolor'\n",
      "]\n"
     ]
    }
   ],
   "source": [
    "function yToLabelFn(y) {\n",
    "    if (Array.isArray(y)) {\n",
    "        y=argmax(y);\n",
    "    }\n",
    "    return `${y}: ${IRIS_CLASS_MAP[y]}`\n",
    "}\n",
    "let preds=learn.predict(learn.xValid, learn.yValid, yToLabelFn);\n",
    "tail(preds,3);"
   ]
  },
  {
   "cell_type": "markdown",
   "id": "critical-parks",
   "metadata": {},
   "source": [
    "and we can easily make up some data of our own and see what the model predicts"
   ]
  },
  {
   "cell_type": "code",
   "execution_count": 4,
   "id": "aboriginal-minority",
   "metadata": {},
   "outputs": [
    {
     "name": "stdout",
     "output_type": "stream",
     "text": [
      "[\n",
      "  [\n",
      "    [ -2.1274712852819375, 5.381204677236861, 3.6462702824166584 ],\n",
      "    '1: Iris-versicolor',\n",
      "    '0: Iris-setosa'\n",
      "  ],\n",
      "  [\n",
      "    [ -1.3324676896825176, 2.382549052851048, -2.294187675498703 ],\n",
      "    '1: Iris-versicolor',\n",
      "    '1: Iris-versicolor'\n",
      "  ],\n",
      "  [\n",
      "    [ 2.0427834286750493, -1.8383986297828827, -6.373072562622682 ],\n",
      "    '0: Iris-setosa',\n",
      "    '2: Iris-virginica'\n",
      "  ]\n",
      "]\n"
     ]
    }
   ],
   "source": [
    "let rh=new IrisRowHandler();\n",
    "rh.handleRow('5.5,3.5,10.4,0.2,Iris-setosa');\n",
    "rh.handleRow('5.5,2.6,0.4,1.2,Iris-versicolor');\n",
    "rh.handleRow('0.5,3.0,5.1,1.8,Iris-virginica');\n",
    "learn.predict(...rh.result, (y=>`${argmax(y)}: ${IRIS_CLASS_MAP[argmax(y)]}`));"
   ]
  },
  {
   "cell_type": "markdown",
   "id": "ancient-objective",
   "metadata": {},
   "source": [
    "## Setting up a development environment\n",
    "\n",
    "This project uses the [tslab Dockerfile for running on mybinder.org](https://github.com/yunabe/tslab-examples/blob/master/Dockerfile_prebuilt).\n",
    "\n",
    "```\n",
    "git clone https://github.com/pete88b/neuralnet_js.git\n",
    "cd neuralnet_js\n",
    "docker build -t neuralnet_js .\n",
    "docker run -d -p 8888:8888 -p 8000:8000 --mount type=bind,source=\"<absolute path to neuralnet_js on your machine>\",target=/home/node/tslab-examples neuralnet_js\n",
    "```\n",
    "Check the container logs for a section that looks a bit like;\n",
    "```\n",
    "To access the notebook, open this file in a browser:\n",
    "file:///home/node/.local/share/jupyter/runtime/nbserver-1-open.html\n",
    "Or copy and paste one of these URLs:\n",
    "http://4f1ee683b96c:8888/?token=b3dd4ed644617cfb795dd8eb899aafea4c2168d8dc897357\n",
    "or http://127.0.0.1:8888/?token=b3dd4ed644617cfb795dd8eb899aafea4c2168d8dc897357\n",
    "```\n",
    "Copy the `127.0.0.1` URL and paste it into your browser.\n",
    "\n",
    "Note: The `docker run` command above uses 2 ports;\n",
    "- 8888 for jupyter and\n",
    "- 8000 which we can use to view demo web pages with http://localhost:8000/demo/\n",
    "    - Run `python3 -m http.server 8000` from a jupyter terminal to start the http server\n",
    "    - we manually start the server so that we don't have to change Dockerfile\n",
    "\n",
    "If you'd like to work with the tslab-examples, just docker run without the --mount;\n",
    "```\n",
    "docker run -d -p 8888:8888 neuralnet_js\n",
    "```"
   ]
  },
  {
   "cell_type": "markdown",
   "id": "otherwise-company",
   "metadata": {},
   "source": [
    "## Converting notebooks to javascript files\n",
    "\n",
    "From a jupyter terminal you can;\n",
    "\n",
    "`$ python3 nbdev_js.py`\n",
    "```\n",
    "Converting 00_testutil.ipynb to src/testutil.js\n",
    "Converting 00_testutil.ipynb to src/testutil.module.js\n",
    "...\n",
    "Converting index.ipynb to README.md\n",
    "```\n",
    "\n",
    "Note: I've added a local file `mk` so I only have to type `./mk` at the terminal.\n",
    "\n",
    "See: `99_nbdev_js.ipynb` for notebook conversion details."
   ]
  }
 ],
 "metadata": {
  "kernelspec": {
   "display_name": "JavaScript",
   "language": "javascript",
   "name": "jslab"
  },
  "language_info": {
   "file_extension": ".js",
   "mimetype": "text/javascript",
   "name": "javascript",
   "version": ""
  }
 },
 "nbformat": 4,
 "nbformat_minor": 5
}
