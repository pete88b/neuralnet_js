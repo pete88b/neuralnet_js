{
 "cells": [
  {
   "cell_type": "code",
   "execution_count": 1,
   "id": "southern-attempt",
   "metadata": {},
   "outputs": [],
   "source": [
    "//default_exp testutil"
   ]
  },
  {
   "cell_type": "markdown",
   "id": "stuffed-shuttle",
   "metadata": {},
   "source": [
    "# Test Util\n",
    "\n",
    "> Functions to help testing."
   ]
  },
  {
   "cell_type": "code",
   "execution_count": 2,
   "id": "black-consciousness",
   "metadata": {},
   "outputs": [],
   "source": [
    "/**\n",
    "Simple \"assert\" function that can compare primitives and arrays.\n",
    "*/\n",
    "function testEq(expected,actual) {\n",
    "    if (Array.isArray(expected)) {\n",
    "        expected=JSON.stringify(expected);\n",
    "        actual=JSON.stringify(actual);\n",
    "    }\n",
    "    if (expected!==actual) {\n",
    "        throw Error(`Expected ${expected} but found ${actual}`);\n",
    "    }\n",
    "}"
   ]
  },
  {
   "cell_type": "code",
   "execution_count": 3,
   "id": "covered-dollar",
   "metadata": {},
   "outputs": [],
   "source": [
    "export {testEq}"
   ]
  }
 ],
 "metadata": {
  "kernelspec": {
   "display_name": "JavaScript",
   "language": "javascript",
   "name": "jslab"
  },
  "language_info": {
   "file_extension": ".js",
   "mimetype": "text/javascript",
   "name": "javascript",
   "version": ""
  }
 },
 "nbformat": 4,
 "nbformat_minor": 5
}
